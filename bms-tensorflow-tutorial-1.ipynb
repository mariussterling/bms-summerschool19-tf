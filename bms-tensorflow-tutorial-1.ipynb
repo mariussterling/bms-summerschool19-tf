{
 "cells": [
  {
   "cell_type": "markdown",
   "metadata": {},
   "source": [
    "## Tensorflow tutorial 1: Models and training"
   ]
  },
  {
   "cell_type": "markdown",
   "metadata": {},
   "source": [
    "Don't panic, read the docs (https://www.tensorflow.org/beta)"
   ]
  },
  {
   "cell_type": "code",
   "execution_count": 2,
   "metadata": {},
   "outputs": [],
   "source": [
    "import os\n",
    "import numpy as np\n",
    "import matplotlib.pyplot as plt\n",
    "import tensorflow as tf\n",
    "from tqdm import tqdm_notebook as tqdm"
   ]
  },
  {
   "cell_type": "markdown",
   "metadata": {},
   "source": [
    "### 1) Classifying hand-written digits / MNIST dataset\n",
    "Contents:\n",
    "- `tf.keras.models.Sequential`\n",
    "- `tf.keras.layers.*`\n",
    "\n",
    "- Obtain data\n",
    "- Constructing a model\n",
    "- Choose a loss function\n",
    "- Training\n",
    "- Validation"
   ]
  },
  {
   "cell_type": "code",
   "execution_count": 3,
   "metadata": {},
   "outputs": [],
   "source": [
    "mnist = tf.keras.datasets.mnist"
   ]
  },
  {
   "cell_type": "markdown",
   "metadata": {},
   "source": [
    "Load data"
   ]
  },
  {
   "cell_type": "code",
   "execution_count": 4,
   "metadata": {},
   "outputs": [],
   "source": [
    "(x_train, y_train),(x_test, y_test) = mnist.load_data()\n",
    "x_train, x_test = x_train / 255.0, x_test / 255.0\n",
    "x_train = np.array(x_train, dtype=np.float32)\n",
    "x_test = np.array(x_test, dtype=np.float32)"
   ]
  },
  {
   "cell_type": "markdown",
   "metadata": {},
   "source": [
    "First dimension identifies sample"
   ]
  },
  {
   "cell_type": "code",
   "execution_count": 5,
   "metadata": {},
   "outputs": [
    {
     "data": {
      "text/plain": [
       "((60000, 28, 28), (60000,))"
      ]
     },
     "execution_count": 5,
     "metadata": {},
     "output_type": "execute_result"
    }
   ],
   "source": [
    "x_train.shape, y_train.shape"
   ]
  },
  {
   "cell_type": "code",
   "execution_count": 6,
   "metadata": {},
   "outputs": [
    {
     "data": {
      "text/plain": [
       "<matplotlib.image.AxesImage at 0x7f6d763d44a8>"
      ]
     },
     "execution_count": 6,
     "metadata": {},
     "output_type": "execute_result"
    },
    {
     "data": {
      "image/png": "[encoded data removed]",
      "text/plain": [
       "<Figure size 288x288 with 1 Axes>"
      ]
     },
     "metadata": {
      "needs_background": "light"
     },
     "output_type": "display_data"
    }
   ],
   "source": [
    "plt.matshow(x_train[0])"
   ]
  },
  {
   "cell_type": "code",
   "execution_count": 7,
   "metadata": {},
   "outputs": [
    {
     "data": {
      "text/plain": [
       "5"
      ]
     },
     "execution_count": 7,
     "metadata": {},
     "output_type": "execute_result"
    }
   ],
   "source": [
    "y_train[0]"
   ]
  },
  {
   "cell_type": "markdown",
   "metadata": {},
   "source": [
    "Formulate a model $f_w(x)$ and attach loss function and observables"
   ]
  },
  {
   "cell_type": "code",
   "execution_count": 8,
   "metadata": {},
   "outputs": [
    {
     "name": "stdout",
     "output_type": "stream",
     "text": [
      "Model: \"sequential\"\n",
      "_________________________________________________________________\n",
      "Layer (type)                 Output Shape              Param #   \n",
      "=================================================================\n",
      "flatten (Flatten)            (None, 784)               0         \n",
      "_________________________________________________________________\n",
      "dense (Dense)                (None, 512)               401920    \n",
      "_________________________________________________________________\n",
      "dropout (Dropout)            (None, 512)               0         \n",
      "_________________________________________________________________\n",
      "dense_1 (Dense)              (None, 10)                5130      \n",
      "=================================================================\n",
      "Total params: 407,050\n",
      "Trainable params: 407,050\n",
      "Non-trainable params: 0\n",
      "_________________________________________________________________\n"
     ]
    }
   ],
   "source": [
    "model = tf.keras.models.Sequential([\n",
    "  tf.keras.layers.Flatten(input_shape=(28, 28)),\n",
    "  tf.keras.layers.Dense(512, activation=tf.nn.relu),\n",
    "  tf.keras.layers.Dropout(0.2),\n",
    "  tf.keras.layers.Dense(10, activation=tf.nn.softmax)\n",
    "])\n",
    "model.compile(optimizer='adam',\n",
    "              loss='sparse_categorical_crossentropy',\n",
    "              metrics=['accuracy'])\n",
    "model.summary()"
   ]
  },
  {
   "cell_type": "markdown",
   "metadata": {},
   "source": [
    "Note that we use the __Sequential__ API here, i.e. we define the computation graph when `model` is constructed. Tensorflow (Keras) also supports a __functional__ API (https://www.tensorflow.org/beta/guide/keras/functional) in which you procedurally build the graph (potentially with branches), and then construct a model from this."
   ]
  },
  {
   "cell_type": "markdown",
   "metadata": {},
   "source": [
    "Model is randomly initialized, applying the forward pass to the image of the five will not yield a reliable prediction."
   ]
  },
  {
   "cell_type": "code",
   "execution_count": 9,
   "metadata": {},
   "outputs": [
    {
     "data": {
      "text/plain": [
       "Text(0, 0.5, 'Assignment probability')"
      ]
     },
     "execution_count": 9,
     "metadata": {},
     "output_type": "execute_result"
    },
    {
     "data": {
      "image/png": "[encoded data removed]",
      "text/plain": [
       "<Figure size 432x288 with 1 Axes>"
      ]
     },
     "metadata": {
      "needs_background": "light"
     },
     "output_type": "display_data"
    }
   ],
   "source": [
    "prediction = model.apply(x_train[0:1])\n",
    "plt.bar(range(0,10), prediction[0])\n",
    "plt.xlabel(\"Digit\")\n",
    "plt.ylabel(\"Assignment probability\")"
   ]
  },
  {
   "cell_type": "markdown",
   "metadata": {},
   "source": [
    "Train the model"
   ]
  },
  {
   "cell_type": "code",
   "execution_count": 10,
   "metadata": {
    "scrolled": false
   },
   "outputs": [
    {
     "name": "stderr",
     "output_type": "stream",
     "text": [
      "WARNING: Logging before flag parsing goes to stderr.\n",
      "W0821 10:52:32.813738 140109521061696 deprecation.py:323] From /home/ms/github/venv/bmsss/lib/python3.6/site-packages/tensorflow/python/ops/math_grad.py:1250: add_dispatch_support.<locals>.wrapper (from tensorflow.python.ops.array_ops) is deprecated and will be removed in a future version.\n",
      "Instructions for updating:\n",
      "Use tf.where in 2.0, which has the same broadcast rule as np.where\n"
     ]
    },
    {
     "name": "stdout",
     "output_type": "stream",
     "text": [
      "Train on 60000 samples\n",
      "Epoch 1/3\n",
      "60000/60000 [==============================] - 7s 118us/sample - loss: 0.2196 - accuracy: 0.9343\n",
      "Epoch 2/3\n",
      "60000/60000 [==============================] - 7s 119us/sample - loss: 0.0958 - accuracy: 0.9706\n",
      "Epoch 3/3\n",
      "60000/60000 [==============================] - 7s 119us/sample - loss: 0.0676 - accuracy: 0.9788\n"
     ]
    },
    {
     "data": {
      "text/plain": [
       "<tensorflow.python.keras.callbacks.History at 0x7f6d763bb668>"
      ]
     },
     "execution_count": 10,
     "metadata": {},
     "output_type": "execute_result"
    }
   ],
   "source": [
    "model.fit(x_train, y_train, epochs=3)"
   ]
  },
  {
   "cell_type": "markdown",
   "metadata": {},
   "source": [
    "Apply model again to the image of the five"
   ]
  },
  {
   "cell_type": "code",
   "execution_count": 11,
   "metadata": {},
   "outputs": [
    {
     "data": {
      "image/png": "[encoded data removed]",
      "text/plain": [
       "<Figure size 432x288 with 1 Axes>"
      ]
     },
     "metadata": {
      "needs_background": "light"
     },
     "output_type": "display_data"
    }
   ],
   "source": [
    "prediction = model.apply(x_train[0:1])\n",
    "plt.bar(range(0,10), prediction[0])\n",
    "plt.xlabel(\"Digit\")\n",
    "plt.ylabel(\"Assignment probability\");"
   ]
  },
  {
   "cell_type": "markdown",
   "metadata": {},
   "source": [
    "More interestingly we can evaluate the performance on unseen data"
   ]
  },
  {
   "cell_type": "code",
   "execution_count": 12,
   "metadata": {},
   "outputs": [
    {
     "name": "stdout",
     "output_type": "stream",
     "text": [
      "10000/10000 [==============================] - 0s 49us/sample - loss: 0.0758 - accuracy: 0.9769\n"
     ]
    },
    {
     "data": {
      "text/plain": [
       "[0.07582823429312557, 0.9769]"
      ]
     },
     "execution_count": 12,
     "metadata": {},
     "output_type": "execute_result"
    }
   ],
   "source": [
    "model.evaluate(x_test, y_test)"
   ]
  },
  {
   "cell_type": "markdown",
   "metadata": {},
   "source": [
    "### 2) MNIST using convolutional layers\n",
    "Contents:\n",
    "- functional api to construct models, `tf.keras.Input`\n",
    "- `tf.keras.layers.Conv2D`\n",
    "- `tf.keras.optimizers`\n",
    "- `tf.keras.losses`\n",
    "- `tf.keras.metrics`\n",
    "- `tf.data.Dataset`\n",
    "\n",
    "- Constructing a model (convolutions better suited for images compared to dense)\n",
    "- Validation"
   ]
  },
  {
   "cell_type": "markdown",
   "metadata": {},
   "source": [
    "![](https://upload.wikimedia.org/wikipedia/commons/6/63/Typical_cnn.png)\n",
    "image taken from wikipedia"
   ]
  },
  {
   "cell_type": "markdown",
   "metadata": {},
   "source": [
    "We use a convolutional layer with 32 filters, each one with a size 3x3"
   ]
  },
  {
   "cell_type": "code",
   "execution_count": 13,
   "metadata": {},
   "outputs": [
    {
     "data": {
      "text/plain": [
       "TensorShape([None, 28, 28, 1])"
      ]
     },
     "execution_count": 13,
     "metadata": {},
     "output_type": "execute_result"
    }
   ],
   "source": [
    "inputs = tf.keras.Input(shape=(28, 28, 1))\n",
    "inputs.shape"
   ]
  },
  {
   "cell_type": "code",
   "execution_count": 14,
   "metadata": {},
   "outputs": [],
   "source": [
    "functional_api = True\n",
    "if not functional_api:\n",
    "    conv_model = tf.keras.models.Sequential([\n",
    "        tf.keras.layers.Conv2D(32, 3, activation='relu', input_shape=(28, 28, 1)),\n",
    "        tf.keras.layers.Flatten(),\n",
    "        tf.keras.layers.Dense(128, activation='relu'),\n",
    "        tf.keras.layers.Dense(10, activation='softmax')\n",
    "    ])\n",
    "else:\n",
    "    inputs = tf.keras.Input(shape=(28, 28, 1))\n",
    "    x = tf.keras.layers.Conv2D(32, 3, activation='relu')(inputs)\n",
    "    x = tf.keras.layers.Flatten()(x)\n",
    "    x = tf.keras.layers.Dense(128, activation='relu')(x)\n",
    "    outputs = tf.keras.layers.Dense(10, activation='softmax')(x)\n",
    "\n",
    "    conv_model = tf.keras.Model(inputs=inputs, outputs=outputs)\n",
    "\n",
    "conv_model.compile(optimizer=tf.keras.optimizers.Adam(learning_rate=1e-3),\n",
    "                   loss=tf.keras.losses.SparseCategoricalCrossentropy(),\n",
    "                   metrics=[tf.keras.metrics.SparseCategoricalAccuracy()])"
   ]
  },
  {
   "cell_type": "code",
   "execution_count": 15,
   "metadata": {},
   "outputs": [
    {
     "name": "stdout",
     "output_type": "stream",
     "text": [
      "Model: \"model\"\n",
      "_________________________________________________________________\n",
      "Layer (type)                 Output Shape              Param #   \n",
      "=================================================================\n",
      "input_2 (InputLayer)         [(None, 28, 28, 1)]       0         \n",
      "_________________________________________________________________\n",
      "conv2d (Conv2D)              (None, 26, 26, 32)        320       \n",
      "_________________________________________________________________\n",
      "flatten_1 (Flatten)          (None, 21632)             0         \n",
      "_________________________________________________________________\n",
      "dense_2 (Dense)              (None, 128)               2769024   \n",
      "_________________________________________________________________\n",
      "dense_3 (Dense)              (None, 10)                1290      \n",
      "=================================================================\n",
      "Total params: 2,770,634\n",
      "Trainable params: 2,770,634\n",
      "Non-trainable params: 0\n",
      "_________________________________________________________________\n"
     ]
    }
   ],
   "source": [
    "conv_model.summary()"
   ]
  },
  {
   "cell_type": "markdown",
   "metadata": {},
   "source": [
    "We now use the `tf.data.Dataset`, which generalizes data coming from different sources. Here we will simply consume our `np.ndarray` objects. The `Dataset` supports functions like [`apply`](https://www.tensorflow.org/versions/r2.0/api_docs/python/tf/data/Dataset#apply), [`batch`](https://www.tensorflow.org/versions/r2.0/api_docs/python/tf/data/Dataset#batch), [`shuffle`](https://www.tensorflow.org/versions/r2.0/api_docs/python/tf/data/Dataset#shuffle), [`map`](https://www.tensorflow.org/versions/r2.0/api_docs/python/tf/data/Dataset#map)"
   ]
  },
  {
   "cell_type": "code",
   "execution_count": 16,
   "metadata": {},
   "outputs": [],
   "source": [
    "# Construct the dataset from numpy arrays\n",
    "train_dataset = tf.data.Dataset.from_tensor_slices((x_train, y_train))\n",
    "test_dataset = tf.data.Dataset.from_tensor_slices((x_test, y_test))\n",
    "\n",
    "# Add channel dimension\n",
    "train_dataset = train_dataset.map(lambda x, y: (tf.expand_dims(x, -1), y))\n",
    "test_dataset= test_dataset.map(lambda x, y: (tf.expand_dims(x, -1), y))\n",
    "\n",
    "# which on direct numpy data would be\n",
    "x_train2 = x_train[..., np.newaxis]\n",
    "x_test2 = x_test[..., np.newaxis]\n",
    "\n",
    "# Batch data\n",
    "train_dataset = train_dataset.shuffle(len(x_train)).batch(64)\n",
    "test_dataset= test_dataset.batch(64)"
   ]
  },
  {
   "cell_type": "code",
   "execution_count": 17,
   "metadata": {},
   "outputs": [
    {
     "name": "stdout",
     "output_type": "stream",
     "text": [
      "Label tf.Tensor([8], shape=(1,), dtype=uint8)\n"
     ]
    },
    {
     "data": {
      "image/png": "[encoded data removed]",
      "text/plain": [
       "<Figure size 432x288 with 1 Axes>"
      ]
     },
     "metadata": {
      "needs_background": "light"
     },
     "output_type": "display_data"
    }
   ],
   "source": [
    "image, label = next(train_dataset.__iter__())\n",
    "prediction = conv_model.apply(image[0:1])\n",
    "plt.bar(range(0,10), prediction[0])\n",
    "plt.xlabel(\"Digit\")\n",
    "plt.ylabel(\"Assignment probability\")\n",
    "print(\"Label\", label[0:1])"
   ]
  },
  {
   "cell_type": "code",
   "execution_count": 18,
   "metadata": {},
   "outputs": [
    {
     "name": "stdout",
     "output_type": "stream",
     "text": [
      "Epoch 1/2\n",
      "938/938 [==============================] - 41s 44ms/step - loss: 0.1511 - sparse_categorical_accuracy: 0.9553\n",
      "Epoch 2/2\n",
      "938/938 [==============================] - 40s 42ms/step - loss: 0.0454 - sparse_categorical_accuracy: 0.9862\n"
     ]
    },
    {
     "data": {
      "text/plain": [
       "<tensorflow.python.keras.callbacks.History at 0x7f6d6c317f98>"
      ]
     },
     "execution_count": 18,
     "metadata": {},
     "output_type": "execute_result"
    }
   ],
   "source": [
    "conv_model.fit(train_dataset, epochs=2)"
   ]
  },
  {
   "cell_type": "code",
   "execution_count": 19,
   "metadata": {},
   "outputs": [
    {
     "name": "stdout",
     "output_type": "stream",
     "text": [
      "157/157 [==============================] - 3s 16ms/step - loss: 0.0750 - sparse_categorical_accuracy: 0.9737\n"
     ]
    },
    {
     "data": {
      "text/plain": [
       "[0.07503826021710648, 0.9737]"
      ]
     },
     "execution_count": 19,
     "metadata": {},
     "output_type": "execute_result"
    }
   ],
   "source": [
    "conv_model.evaluate(test_dataset)"
   ]
  },
  {
   "cell_type": "markdown",
   "metadata": {},
   "source": [
    "### 3) Linear regression, example Hooke's law of a two-dimensional oscillator\n",
    "- subclass `tf.keras.Model`\n",
    "- `tf.keras.Model.save_weights`\n",
    "- `tf.keras.Model.load_weights`\n",
    "- Constructing a (linear) model\n",
    "\n",
    "Given a point mass is attached to two springs such that it can oscillate in two orthogonal directions  independently. Given measurements of the force on the point mass at given excitations $x$, we want to find a model that predicts the force from $x$. Our model for the resetting force $F\\in\\mathbb{R}^2$ is a linear dependence on the displacement vector $x\\in\\mathbb{R}^2$, i.e. $F(x)=Wx$, where $W\\in\\mathbb{R}^{2\\times2}$ is a matrix that contains the spring constants. (Model is both linear in $x$ and $W$)"
   ]
  },
  {
   "cell_type": "code",
   "execution_count": 20,
   "metadata": {},
   "outputs": [],
   "source": [
    "# alternatively try the '2d-hooke-rotated.npz'\n",
    "with np.load(\"2d-hooke.npz\") as file:\n",
    "    xs, ys = file[\"xs\"], file[\"ys\"]"
   ]
  },
  {
   "cell_type": "markdown",
   "metadata": {},
   "source": [
    "Let's inspect the data"
   ]
  },
  {
   "cell_type": "code",
   "execution_count": 21,
   "metadata": {},
   "outputs": [
    {
     "data": {
      "text/plain": [
       "((200, 2), (200, 2))"
      ]
     },
     "execution_count": 21,
     "metadata": {},
     "output_type": "execute_result"
    }
   ],
   "source": [
    "xs.shape, ys.shape"
   ]
  },
  {
   "cell_type": "code",
   "execution_count": 22,
   "metadata": {},
   "outputs": [
    {
     "data": {
      "image/png": "[encoded data removed]",
      "text/plain": [
       "<Figure size 432x288 with 1 Axes>"
      ]
     },
     "metadata": {
      "needs_background": "light"
     },
     "output_type": "display_data"
    }
   ],
   "source": [
    "_ = plt.hist2d(xs[:,0], xs[:,1])"
   ]
  },
  {
   "cell_type": "code",
   "execution_count": 23,
   "metadata": {},
   "outputs": [
    {
     "data": {
      "image/png": "[encoded data removed]",
      "text/plain": [
       "<Figure size 432x288 with 1 Axes>"
      ]
     },
     "metadata": {
      "needs_background": "light"
     },
     "output_type": "display_data"
    }
   ],
   "source": [
    "_ = plt.hist2d(ys[:,0], ys[:,1])"
   ]
  },
  {
   "cell_type": "markdown",
   "metadata": {},
   "source": [
    "We can also inspect correlations in the data"
   ]
  },
  {
   "cell_type": "code",
   "execution_count": 24,
   "metadata": {},
   "outputs": [
    {
     "data": {
      "text/plain": [
       "<seaborn.axisgrid.PairGrid at 0x7f6dca229b70>"
      ]
     },
     "execution_count": 24,
     "metadata": {},
     "output_type": "execute_result"
    },
    {
     "data": {
      "image/png": "[encoded data removed]",
      "text/plain": [
       "<Figure size 720x720 with 20 Axes>"
      ]
     },
     "metadata": {
      "needs_background": "light"
     },
     "output_type": "display_data"
    }
   ],
   "source": [
    "import pandas as pd\n",
    "import seaborn as sns\n",
    "df = pd.DataFrame({\"x1\": xs[:,0], \"x2\": xs[:,1], \"y1\": ys[:,0], \"y2\": ys[:,1]})\n",
    "sns.pairplot(df)"
   ]
  },
  {
   "cell_type": "code",
   "execution_count": 25,
   "metadata": {},
   "outputs": [
    {
     "data": {
      "text/plain": [
       "(200, 180, 20)"
      ]
     },
     "execution_count": 25,
     "metadata": {},
     "output_type": "execute_result"
    }
   ],
   "source": [
    "n_samples=len(xs)\n",
    "n_test = n_samples // 10\n",
    "n_train = n_samples - n_test\n",
    "n_samples, n_train, n_test "
   ]
  },
  {
   "cell_type": "markdown",
   "metadata": {},
   "source": [
    "Here we will formulate our own model, which here consists out of some trainable parameters (contained in `self.dense`) and an implementation of the forward pass `call(self, inputs)`"
   ]
  },
  {
   "cell_type": "code",
   "execution_count": 26,
   "metadata": {},
   "outputs": [],
   "source": [
    "class MyModel(tf.keras.Model):\n",
    "\n",
    "    def __init__(self):\n",
    "        super(MyModel, self).__init__()\n",
    "        self.dense = tf.keras.layers.Dense(2, use_bias=False)\n",
    "\n",
    "    def call(self, inputs):\n",
    "        return self.dense(inputs)\n",
    "\n",
    "model = MyModel()"
   ]
  },
  {
   "cell_type": "markdown",
   "metadata": {},
   "source": [
    "In order to optimize the model to fit our data, we have to specify an optimization criterion. In our case we aim to minimize the mean squared error of our model $F_W=f_w$ on the observed data $(x_n, y_n), ~ n \\in [N]$ with respect to the parameters $w$:\n",
    "\n",
    "$$w_{*} = \\arg\\min_{w} \\tfrac{1}{N} \\sum_{n=1}^{N}(f_{w}(x_i) - y_i)^{2}$$"
   ]
  },
  {
   "cell_type": "code",
   "execution_count": 27,
   "metadata": {},
   "outputs": [
    {
     "name": "stdout",
     "output_type": "stream",
     "text": [
      "Model: \"my_model\"\n",
      "_________________________________________________________________\n",
      "Layer (type)                 Output Shape              Param #   \n",
      "=================================================================\n",
      "dense_4 (Dense)              multiple                  4         \n",
      "=================================================================\n",
      "Total params: 4\n",
      "Trainable params: 4\n",
      "Non-trainable params: 0\n",
      "_________________________________________________________________\n"
     ]
    }
   ],
   "source": [
    "model.compile(optimizer=tf.keras.optimizers.Adam(1e-2),\n",
    "              loss=tf.keras.losses.mean_squared_error,\n",
    "              metrics=[tf.keras.metrics.mean_squared_error])\n",
    "model.build((None, 2))\n",
    "model.summary()"
   ]
  },
  {
   "cell_type": "code",
   "execution_count": 28,
   "metadata": {
    "scrolled": true
   },
   "outputs": [
    {
     "name": "stdout",
     "output_type": "stream",
     "text": [
      "Train on 180 samples, validate on 20 samples\n",
      "Epoch 1/200\n",
      "180/180 [==============================] - 0s 653us/sample - loss: 0.5257 - mean_squared_error: 0.5257 - val_loss: 0.5106 - val_mean_squared_error: 0.5106\n",
      "Epoch 2/200\n",
      "180/180 [==============================] - 0s 70us/sample - loss: 0.5078 - mean_squared_error: 0.5078 - val_loss: 0.4918 - val_mean_squared_error: 0.4918\n",
      "Epoch 3/200\n",
      "180/180 [==============================] - 0s 81us/sample - loss: 0.4900 - mean_squared_error: 0.4900 - val_loss: 0.4740 - val_mean_squared_error: 0.4740\n",
      "Epoch 4/200\n",
      "180/180 [==============================] - 0s 87us/sample - loss: 0.4728 - mean_squared_error: 0.4728 - val_loss: 0.4569 - val_mean_squared_error: 0.4569\n",
      "Epoch 5/200\n",
      "180/180 [==============================] - 0s 91us/sample - loss: 0.4568 - mean_squared_error: 0.4568 - val_loss: 0.4398 - val_mean_squared_error: 0.4398\n",
      "Epoch 6/200\n",
      "180/180 [==============================] - 0s 117us/sample - loss: 0.4412 - mean_squared_error: 0.4412 - val_loss: 0.4234 - val_mean_squared_error: 0.4234\n",
      "Epoch 7/200\n",
      "180/180 [==============================] - 0s 111us/sample - loss: 0.4252 - mean_squared_error: 0.4252 - val_loss: 0.4080 - val_mean_squared_error: 0.4080\n",
      "Epoch 8/200\n",
      "180/180 [==============================] - 0s 101us/sample - loss: 0.4109 - mean_squared_error: 0.4109 - val_loss: 0.3932 - val_mean_squared_error: 0.3932\n",
      "Epoch 9/200\n",
      "180/180 [==============================] - 0s 74us/sample - loss: 0.3966 - mean_squared_error: 0.3966 - val_loss: 0.3789 - val_mean_squared_error: 0.3789\n",
      "Epoch 10/200\n",
      "180/180 [==============================] - 0s 76us/sample - loss: 0.3830 - mean_squared_error: 0.3830 - val_loss: 0.3651 - val_mean_squared_error: 0.3651\n",
      "Epoch 11/200\n",
      "180/180 [==============================] - 0s 118us/sample - loss: 0.3694 - mean_squared_error: 0.3694 - val_loss: 0.3521 - val_mean_squared_error: 0.3521\n",
      "Epoch 12/200\n",
      "180/180 [==============================] - 0s 85us/sample - loss: 0.3569 - mean_squared_error: 0.3569 - val_loss: 0.3389 - val_mean_squared_error: 0.3389\n",
      "Epoch 13/200\n",
      "180/180 [==============================] - 0s 96us/sample - loss: 0.3443 - mean_squared_error: 0.3443 - val_loss: 0.3267 - val_mean_squared_error: 0.3267\n",
      "Epoch 14/200\n",
      "180/180 [==============================] - 0s 88us/sample - loss: 0.3327 - mean_squared_error: 0.3327 - val_loss: 0.3147 - val_mean_squared_error: 0.3147\n",
      "Epoch 15/200\n",
      "180/180 [==============================] - 0s 99us/sample - loss: 0.3208 - mean_squared_error: 0.3208 - val_loss: 0.3037 - val_mean_squared_error: 0.3037\n",
      "Epoch 16/200\n",
      "180/180 [==============================] - 0s 98us/sample - loss: 0.3094 - mean_squared_error: 0.3094 - val_loss: 0.2929 - val_mean_squared_error: 0.2929\n",
      "Epoch 17/200\n",
      "180/180 [==============================] - 0s 92us/sample - loss: 0.2989 - mean_squared_error: 0.2989 - val_loss: 0.2821 - val_mean_squared_error: 0.2821\n",
      "Epoch 18/200\n",
      "180/180 [==============================] - 0s 104us/sample - loss: 0.2882 - mean_squared_error: 0.2882 - val_loss: 0.2719 - val_mean_squared_error: 0.2719\n",
      "Epoch 19/200\n",
      "180/180 [==============================] - 0s 87us/sample - loss: 0.2779 - mean_squared_error: 0.2779 - val_loss: 0.2622 - val_mean_squared_error: 0.2622\n",
      "Epoch 20/200\n",
      "180/180 [==============================] - 0s 99us/sample - loss: 0.2681 - mean_squared_error: 0.2681 - val_loss: 0.2530 - val_mean_squared_error: 0.2530\n",
      "Epoch 21/200\n",
      "180/180 [==============================] - 0s 93us/sample - loss: 0.2591 - mean_squared_error: 0.2591 - val_loss: 0.2438 - val_mean_squared_error: 0.2438\n",
      "Epoch 22/200\n",
      "180/180 [==============================] - 0s 117us/sample - loss: 0.2495 - mean_squared_error: 0.2495 - val_loss: 0.2352 - val_mean_squared_error: 0.2352\n",
      "Epoch 23/200\n",
      "180/180 [==============================] - 0s 119us/sample - loss: 0.2409 - mean_squared_error: 0.2409 - val_loss: 0.2270 - val_mean_squared_error: 0.2270\n",
      "Epoch 24/200\n",
      "180/180 [==============================] - 0s 144us/sample - loss: 0.2320 - mean_squared_error: 0.2320 - val_loss: 0.2190 - val_mean_squared_error: 0.2190\n",
      "Epoch 25/200\n",
      "180/180 [==============================] - 0s 99us/sample - loss: 0.2237 - mean_squared_error: 0.2237 - val_loss: 0.2114 - val_mean_squared_error: 0.2114\n",
      "Epoch 26/200\n",
      "180/180 [==============================] - 0s 101us/sample - loss: 0.2156 - mean_squared_error: 0.2156 - val_loss: 0.2040 - val_mean_squared_error: 0.2040\n",
      "Epoch 27/200\n",
      "180/180 [==============================] - 0s 57us/sample - loss: 0.2080 - mean_squared_error: 0.2080 - val_loss: 0.1965 - val_mean_squared_error: 0.1965\n",
      "Epoch 28/200\n",
      "180/180 [==============================] - 0s 77us/sample - loss: 0.2000 - mean_squared_error: 0.2000 - val_loss: 0.1896 - val_mean_squared_error: 0.1896\n",
      "Epoch 29/200\n",
      "180/180 [==============================] - 0s 93us/sample - loss: 0.1930 - mean_squared_error: 0.1930 - val_loss: 0.1828 - val_mean_squared_error: 0.1828\n",
      "Epoch 30/200\n",
      "180/180 [==============================] - 0s 58us/sample - loss: 0.1858 - mean_squared_error: 0.1858 - val_loss: 0.1763 - val_mean_squared_error: 0.1763\n",
      "Epoch 31/200\n",
      "180/180 [==============================] - 0s 78us/sample - loss: 0.1787 - mean_squared_error: 0.1787 - val_loss: 0.1703 - val_mean_squared_error: 0.1703\n",
      "Epoch 32/200\n",
      "180/180 [==============================] - 0s 123us/sample - loss: 0.1721 - mean_squared_error: 0.1721 - val_loss: 0.1643 - val_mean_squared_error: 0.1643\n",
      "Epoch 33/200\n",
      "180/180 [==============================] - 0s 64us/sample - loss: 0.1658 - mean_squared_error: 0.1658 - val_loss: 0.1584 - val_mean_squared_error: 0.1584\n",
      "Epoch 34/200\n",
      "180/180 [==============================] - 0s 87us/sample - loss: 0.1593 - mean_squared_error: 0.1593 - val_loss: 0.1529 - val_mean_squared_error: 0.1529\n",
      "Epoch 35/200\n",
      "180/180 [==============================] - 0s 108us/sample - loss: 0.1534 - mean_squared_error: 0.1534 - val_loss: 0.1473 - val_mean_squared_error: 0.1473\n",
      "Epoch 36/200\n",
      "180/180 [==============================] - 0s 101us/sample - loss: 0.1477 - mean_squared_error: 0.1477 - val_loss: 0.1419 - val_mean_squared_error: 0.1419\n",
      "Epoch 37/200\n",
      "180/180 [==============================] - 0s 114us/sample - loss: 0.1418 - mean_squared_error: 0.1418 - val_loss: 0.1367 - val_mean_squared_error: 0.1367\n",
      "Epoch 38/200\n",
      "180/180 [==============================] - 0s 102us/sample - loss: 0.1366 - mean_squared_error: 0.1366 - val_loss: 0.1317 - val_mean_squared_error: 0.1317\n",
      "Epoch 39/200\n",
      "180/180 [==============================] - 0s 81us/sample - loss: 0.1313 - mean_squared_error: 0.1313 - val_loss: 0.1270 - val_mean_squared_error: 0.1270\n",
      "Epoch 40/200\n",
      "180/180 [==============================] - 0s 68us/sample - loss: 0.1261 - mean_squared_error: 0.1261 - val_loss: 0.1223 - val_mean_squared_error: 0.1223\n",
      "Epoch 41/200\n",
      "180/180 [==============================] - 0s 104us/sample - loss: 0.1212 - mean_squared_error: 0.1212 - val_loss: 0.1179 - val_mean_squared_error: 0.1179\n",
      "Epoch 42/200\n",
      "180/180 [==============================] - 0s 96us/sample - loss: 0.1165 - mean_squared_error: 0.1165 - val_loss: 0.1135 - val_mean_squared_error: 0.1135\n",
      "Epoch 43/200\n",
      "180/180 [==============================] - 0s 122us/sample - loss: 0.1118 - mean_squared_error: 0.1118 - val_loss: 0.1094 - val_mean_squared_error: 0.1094\n",
      "Epoch 44/200\n",
      "180/180 [==============================] - 0s 87us/sample - loss: 0.1076 - mean_squared_error: 0.1076 - val_loss: 0.1051 - val_mean_squared_error: 0.1051\n",
      "Epoch 45/200\n",
      "180/180 [==============================] - 0s 79us/sample - loss: 0.1032 - mean_squared_error: 0.1032 - val_loss: 0.1011 - val_mean_squared_error: 0.1011\n",
      "Epoch 46/200\n",
      "180/180 [==============================] - 0s 63us/sample - loss: 0.0991 - mean_squared_error: 0.0991 - val_loss: 0.0973 - val_mean_squared_error: 0.0973\n",
      "Epoch 47/200\n",
      "180/180 [==============================] - 0s 47us/sample - loss: 0.0951 - mean_squared_error: 0.0951 - val_loss: 0.0936 - val_mean_squared_error: 0.0936\n",
      "Epoch 48/200\n",
      "180/180 [==============================] - 0s 80us/sample - loss: 0.0913 - mean_squared_error: 0.0913 - val_loss: 0.0901 - val_mean_squared_error: 0.0901\n",
      "Epoch 49/200\n",
      "180/180 [==============================] - 0s 66us/sample - loss: 0.0877 - mean_squared_error: 0.0877 - val_loss: 0.0867 - val_mean_squared_error: 0.0867\n"
     ]
    },
    {
     "name": "stdout",
     "output_type": "stream",
     "text": [
      "Epoch 50/200\n",
      "180/180 [==============================] - 0s 80us/sample - loss: 0.0840 - mean_squared_error: 0.0840 - val_loss: 0.0836 - val_mean_squared_error: 0.0836\n",
      "Epoch 51/200\n",
      "180/180 [==============================] - 0s 88us/sample - loss: 0.0808 - mean_squared_error: 0.0808 - val_loss: 0.0804 - val_mean_squared_error: 0.0804\n",
      "Epoch 52/200\n",
      "180/180 [==============================] - 0s 71us/sample - loss: 0.0775 - mean_squared_error: 0.0775 - val_loss: 0.0775 - val_mean_squared_error: 0.0775\n",
      "Epoch 53/200\n",
      "180/180 [==============================] - 0s 73us/sample - loss: 0.0745 - mean_squared_error: 0.0745 - val_loss: 0.0745 - val_mean_squared_error: 0.0745\n",
      "Epoch 54/200\n",
      "180/180 [==============================] - 0s 84us/sample - loss: 0.0715 - mean_squared_error: 0.0715 - val_loss: 0.0716 - val_mean_squared_error: 0.0716\n",
      "Epoch 55/200\n",
      "180/180 [==============================] - 0s 85us/sample - loss: 0.0686 - mean_squared_error: 0.0686 - val_loss: 0.0690 - val_mean_squared_error: 0.0690\n",
      "Epoch 56/200\n",
      "180/180 [==============================] - 0s 83us/sample - loss: 0.0660 - mean_squared_error: 0.0660 - val_loss: 0.0664 - val_mean_squared_error: 0.0664\n",
      "Epoch 57/200\n",
      "180/180 [==============================] - 0s 97us/sample - loss: 0.0633 - mean_squared_error: 0.0633 - val_loss: 0.0639 - val_mean_squared_error: 0.0639\n",
      "Epoch 58/200\n",
      "180/180 [==============================] - 0s 85us/sample - loss: 0.0607 - mean_squared_error: 0.0607 - val_loss: 0.0617 - val_mean_squared_error: 0.0617\n",
      "Epoch 59/200\n",
      "180/180 [==============================] - 0s 155us/sample - loss: 0.0584 - mean_squared_error: 0.0584 - val_loss: 0.0594 - val_mean_squared_error: 0.0594\n",
      "Epoch 60/200\n",
      "180/180 [==============================] - 0s 94us/sample - loss: 0.0561 - mean_squared_error: 0.0561 - val_loss: 0.0573 - val_mean_squared_error: 0.0573\n",
      "Epoch 61/200\n",
      "180/180 [==============================] - 0s 174us/sample - loss: 0.0539 - mean_squared_error: 0.0539 - val_loss: 0.0551 - val_mean_squared_error: 0.0551\n",
      "Epoch 62/200\n",
      "180/180 [==============================] - 0s 79us/sample - loss: 0.0516 - mean_squared_error: 0.0516 - val_loss: 0.0531 - val_mean_squared_error: 0.0531\n",
      "Epoch 63/200\n",
      "180/180 [==============================] - 0s 91us/sample - loss: 0.0497 - mean_squared_error: 0.0497 - val_loss: 0.0512 - val_mean_squared_error: 0.0512\n",
      "Epoch 64/200\n",
      "180/180 [==============================] - 0s 64us/sample - loss: 0.0478 - mean_squared_error: 0.0478 - val_loss: 0.0492 - val_mean_squared_error: 0.0492\n",
      "Epoch 65/200\n",
      "180/180 [==============================] - 0s 68us/sample - loss: 0.0459 - mean_squared_error: 0.0459 - val_loss: 0.0473 - val_mean_squared_error: 0.0473\n",
      "Epoch 66/200\n",
      "180/180 [==============================] - 0s 80us/sample - loss: 0.0441 - mean_squared_error: 0.0441 - val_loss: 0.0456 - val_mean_squared_error: 0.0456\n",
      "Epoch 67/200\n",
      "180/180 [==============================] - 0s 94us/sample - loss: 0.0424 - mean_squared_error: 0.0424 - val_loss: 0.0440 - val_mean_squared_error: 0.0440\n",
      "Epoch 68/200\n",
      "180/180 [==============================] - 0s 108us/sample - loss: 0.0408 - mean_squared_error: 0.0408 - val_loss: 0.0424 - val_mean_squared_error: 0.0424\n",
      "Epoch 69/200\n",
      "180/180 [==============================] - 0s 73us/sample - loss: 0.0392 - mean_squared_error: 0.0392 - val_loss: 0.0408 - val_mean_squared_error: 0.0408\n",
      "Epoch 70/200\n",
      "180/180 [==============================] - 0s 85us/sample - loss: 0.0378 - mean_squared_error: 0.0378 - val_loss: 0.0394 - val_mean_squared_error: 0.0394\n",
      "Epoch 71/200\n",
      "180/180 [==============================] - 0s 110us/sample - loss: 0.0363 - mean_squared_error: 0.0363 - val_loss: 0.0379 - val_mean_squared_error: 0.0379\n",
      "Epoch 72/200\n",
      "180/180 [==============================] - 0s 93us/sample - loss: 0.0350 - mean_squared_error: 0.0350 - val_loss: 0.0366 - val_mean_squared_error: 0.0366\n",
      "Epoch 73/200\n",
      "180/180 [==============================] - 0s 126us/sample - loss: 0.0337 - mean_squared_error: 0.0337 - val_loss: 0.0354 - val_mean_squared_error: 0.0354\n",
      "Epoch 74/200\n",
      "180/180 [==============================] - 0s 111us/sample - loss: 0.0325 - mean_squared_error: 0.0325 - val_loss: 0.0342 - val_mean_squared_error: 0.0342\n",
      "Epoch 75/200\n",
      "180/180 [==============================] - 0s 124us/sample - loss: 0.0313 - mean_squared_error: 0.0313 - val_loss: 0.0330 - val_mean_squared_error: 0.0330\n",
      "Epoch 76/200\n",
      "180/180 [==============================] - 0s 110us/sample - loss: 0.0302 - mean_squared_error: 0.0302 - val_loss: 0.0319 - val_mean_squared_error: 0.0319\n",
      "Epoch 77/200\n",
      "180/180 [==============================] - 0s 132us/sample - loss: 0.0291 - mean_squared_error: 0.0291 - val_loss: 0.0308 - val_mean_squared_error: 0.0308\n",
      "Epoch 78/200\n",
      "180/180 [==============================] - 0s 117us/sample - loss: 0.0282 - mean_squared_error: 0.0282 - val_loss: 0.0298 - val_mean_squared_error: 0.0298\n",
      "Epoch 79/200\n",
      "180/180 [==============================] - 0s 71us/sample - loss: 0.0272 - mean_squared_error: 0.0272 - val_loss: 0.0288 - val_mean_squared_error: 0.0288\n",
      "Epoch 80/200\n",
      "180/180 [==============================] - 0s 103us/sample - loss: 0.0263 - mean_squared_error: 0.0263 - val_loss: 0.0279 - val_mean_squared_error: 0.0279\n",
      "Epoch 81/200\n",
      "180/180 [==============================] - 0s 54us/sample - loss: 0.0255 - mean_squared_error: 0.0255 - val_loss: 0.0270 - val_mean_squared_error: 0.0270\n",
      "Epoch 82/200\n",
      "180/180 [==============================] - 0s 140us/sample - loss: 0.0246 - mean_squared_error: 0.0246 - val_loss: 0.0262 - val_mean_squared_error: 0.0262\n",
      "Epoch 83/200\n",
      "180/180 [==============================] - 0s 83us/sample - loss: 0.0239 - mean_squared_error: 0.0239 - val_loss: 0.0254 - val_mean_squared_error: 0.0254\n",
      "Epoch 84/200\n",
      "180/180 [==============================] - 0s 78us/sample - loss: 0.0231 - mean_squared_error: 0.0231 - val_loss: 0.0247 - val_mean_squared_error: 0.0247\n",
      "Epoch 85/200\n",
      "180/180 [==============================] - 0s 111us/sample - loss: 0.0225 - mean_squared_error: 0.0225 - val_loss: 0.0240 - val_mean_squared_error: 0.0240\n",
      "Epoch 86/200\n",
      "180/180 [==============================] - 0s 83us/sample - loss: 0.0218 - mean_squared_error: 0.0218 - val_loss: 0.0233 - val_mean_squared_error: 0.0233\n",
      "Epoch 87/200\n",
      "180/180 [==============================] - 0s 82us/sample - loss: 0.0212 - mean_squared_error: 0.0212 - val_loss: 0.0226 - val_mean_squared_error: 0.0226\n",
      "Epoch 88/200\n",
      "180/180 [==============================] - 0s 81us/sample - loss: 0.0205 - mean_squared_error: 0.0205 - val_loss: 0.0220 - val_mean_squared_error: 0.0220\n",
      "Epoch 89/200\n",
      "180/180 [==============================] - 0s 72us/sample - loss: 0.0200 - mean_squared_error: 0.0200 - val_loss: 0.0213 - val_mean_squared_error: 0.0213\n",
      "Epoch 90/200\n",
      "180/180 [==============================] - 0s 64us/sample - loss: 0.0194 - mean_squared_error: 0.0194 - val_loss: 0.0207 - val_mean_squared_error: 0.0207\n",
      "Epoch 91/200\n",
      "180/180 [==============================] - 0s 78us/sample - loss: 0.0189 - mean_squared_error: 0.0189 - val_loss: 0.0201 - val_mean_squared_error: 0.0201\n",
      "Epoch 92/200\n",
      "180/180 [==============================] - 0s 64us/sample - loss: 0.0184 - mean_squared_error: 0.0184 - val_loss: 0.0196 - val_mean_squared_error: 0.0196\n",
      "Epoch 93/200\n",
      "180/180 [==============================] - 0s 57us/sample - loss: 0.0180 - mean_squared_error: 0.0180 - val_loss: 0.0191 - val_mean_squared_error: 0.0191\n",
      "Epoch 94/200\n",
      "180/180 [==============================] - 0s 60us/sample - loss: 0.0175 - mean_squared_error: 0.0175 - val_loss: 0.0187 - val_mean_squared_error: 0.0187\n",
      "Epoch 95/200\n",
      "180/180 [==============================] - 0s 70us/sample - loss: 0.0172 - mean_squared_error: 0.0172 - val_loss: 0.0182 - val_mean_squared_error: 0.0182\n",
      "Epoch 96/200\n",
      "180/180 [==============================] - 0s 68us/sample - loss: 0.0168 - mean_squared_error: 0.0168 - val_loss: 0.0178 - val_mean_squared_error: 0.0178\n",
      "Epoch 97/200\n",
      "180/180 [==============================] - 0s 62us/sample - loss: 0.0164 - mean_squared_error: 0.0164 - val_loss: 0.0174 - val_mean_squared_error: 0.0174\n",
      "Epoch 98/200\n",
      "180/180 [==============================] - 0s 85us/sample - loss: 0.0160 - mean_squared_error: 0.0160 - val_loss: 0.0170 - val_mean_squared_error: 0.0170\n"
     ]
    },
    {
     "name": "stdout",
     "output_type": "stream",
     "text": [
      "Epoch 99/200\n",
      "180/180 [==============================] - 0s 91us/sample - loss: 0.0157 - mean_squared_error: 0.0157 - val_loss: 0.0166 - val_mean_squared_error: 0.0166\n",
      "Epoch 100/200\n",
      "180/180 [==============================] - 0s 116us/sample - loss: 0.0154 - mean_squared_error: 0.0154 - val_loss: 0.0162 - val_mean_squared_error: 0.0162\n",
      "Epoch 101/200\n",
      "180/180 [==============================] - 0s 115us/sample - loss: 0.0151 - mean_squared_error: 0.0151 - val_loss: 0.0159 - val_mean_squared_error: 0.0159\n",
      "Epoch 102/200\n",
      "180/180 [==============================] - 0s 110us/sample - loss: 0.0148 - mean_squared_error: 0.0148 - val_loss: 0.0156 - val_mean_squared_error: 0.0156\n",
      "Epoch 103/200\n",
      "180/180 [==============================] - 0s 94us/sample - loss: 0.0146 - mean_squared_error: 0.0146 - val_loss: 0.0152 - val_mean_squared_error: 0.0152\n",
      "Epoch 104/200\n",
      "180/180 [==============================] - 0s 127us/sample - loss: 0.0143 - mean_squared_error: 0.0143 - val_loss: 0.0149 - val_mean_squared_error: 0.0149\n",
      "Epoch 105/200\n",
      "180/180 [==============================] - 0s 124us/sample - loss: 0.0141 - mean_squared_error: 0.0141 - val_loss: 0.0147 - val_mean_squared_error: 0.0147\n",
      "Epoch 106/200\n",
      "180/180 [==============================] - 0s 137us/sample - loss: 0.0139 - mean_squared_error: 0.0139 - val_loss: 0.0144 - val_mean_squared_error: 0.0144\n",
      "Epoch 107/200\n",
      "180/180 [==============================] - 0s 147us/sample - loss: 0.0137 - mean_squared_error: 0.0137 - val_loss: 0.0142 - val_mean_squared_error: 0.0142\n",
      "Epoch 108/200\n",
      "180/180 [==============================] - 0s 108us/sample - loss: 0.0135 - mean_squared_error: 0.0135 - val_loss: 0.0140 - val_mean_squared_error: 0.0140\n",
      "Epoch 109/200\n",
      "180/180 [==============================] - 0s 126us/sample - loss: 0.0133 - mean_squared_error: 0.0133 - val_loss: 0.0137 - val_mean_squared_error: 0.0137\n",
      "Epoch 110/200\n",
      "180/180 [==============================] - 0s 78us/sample - loss: 0.0131 - mean_squared_error: 0.0131 - val_loss: 0.0135 - val_mean_squared_error: 0.0135\n",
      "Epoch 111/200\n",
      "180/180 [==============================] - 0s 76us/sample - loss: 0.0130 - mean_squared_error: 0.0130 - val_loss: 0.0133 - val_mean_squared_error: 0.0133\n",
      "Epoch 112/200\n",
      "180/180 [==============================] - 0s 79us/sample - loss: 0.0128 - mean_squared_error: 0.0128 - val_loss: 0.0131 - val_mean_squared_error: 0.0131\n",
      "Epoch 113/200\n",
      "180/180 [==============================] - 0s 103us/sample - loss: 0.0127 - mean_squared_error: 0.0127 - val_loss: 0.0129 - val_mean_squared_error: 0.0129\n",
      "Epoch 114/200\n",
      "180/180 [==============================] - 0s 81us/sample - loss: 0.0125 - mean_squared_error: 0.0125 - val_loss: 0.0127 - val_mean_squared_error: 0.0127\n",
      "Epoch 115/200\n",
      "180/180 [==============================] - 0s 84us/sample - loss: 0.0124 - mean_squared_error: 0.0124 - val_loss: 0.0125 - val_mean_squared_error: 0.0125\n",
      "Epoch 116/200\n",
      "180/180 [==============================] - 0s 127us/sample - loss: 0.0123 - mean_squared_error: 0.0123 - val_loss: 0.0124 - val_mean_squared_error: 0.0124\n",
      "Epoch 117/200\n",
      "180/180 [==============================] - 0s 129us/sample - loss: 0.0122 - mean_squared_error: 0.0122 - val_loss: 0.0123 - val_mean_squared_error: 0.0123\n",
      "Epoch 118/200\n",
      "180/180 [==============================] - 0s 97us/sample - loss: 0.0121 - mean_squared_error: 0.0121 - val_loss: 0.0121 - val_mean_squared_error: 0.0121\n",
      "Epoch 119/200\n",
      "180/180 [==============================] - 0s 105us/sample - loss: 0.0119 - mean_squared_error: 0.0119 - val_loss: 0.0120 - val_mean_squared_error: 0.0120\n",
      "Epoch 120/200\n",
      "180/180 [==============================] - 0s 116us/sample - loss: 0.0119 - mean_squared_error: 0.0119 - val_loss: 0.0118 - val_mean_squared_error: 0.0118\n",
      "Epoch 121/200\n",
      "180/180 [==============================] - 0s 182us/sample - loss: 0.0118 - mean_squared_error: 0.0118 - val_loss: 0.0117 - val_mean_squared_error: 0.0117\n",
      "Epoch 122/200\n",
      "180/180 [==============================] - 0s 112us/sample - loss: 0.0117 - mean_squared_error: 0.0117 - val_loss: 0.0116 - val_mean_squared_error: 0.0116\n",
      "Epoch 123/200\n",
      "180/180 [==============================] - 0s 96us/sample - loss: 0.0116 - mean_squared_error: 0.0116 - val_loss: 0.0115 - val_mean_squared_error: 0.0115\n",
      "Epoch 124/200\n",
      "180/180 [==============================] - 0s 91us/sample - loss: 0.0115 - mean_squared_error: 0.0115 - val_loss: 0.0114 - val_mean_squared_error: 0.0114\n",
      "Epoch 125/200\n",
      "180/180 [==============================] - 0s 101us/sample - loss: 0.0115 - mean_squared_error: 0.0115 - val_loss: 0.0113 - val_mean_squared_error: 0.0113\n",
      "Epoch 126/200\n",
      "180/180 [==============================] - 0s 158us/sample - loss: 0.0114 - mean_squared_error: 0.0114 - val_loss: 0.0112 - val_mean_squared_error: 0.0112\n",
      "Epoch 127/200\n",
      "180/180 [==============================] - 0s 105us/sample - loss: 0.0113 - mean_squared_error: 0.0113 - val_loss: 0.0111 - val_mean_squared_error: 0.0111\n",
      "Epoch 128/200\n",
      "180/180 [==============================] - 0s 77us/sample - loss: 0.0113 - mean_squared_error: 0.0113 - val_loss: 0.0110 - val_mean_squared_error: 0.0110\n",
      "Epoch 129/200\n",
      "180/180 [==============================] - 0s 116us/sample - loss: 0.0112 - mean_squared_error: 0.0112 - val_loss: 0.0110 - val_mean_squared_error: 0.0110\n",
      "Epoch 130/200\n",
      "180/180 [==============================] - 0s 83us/sample - loss: 0.0112 - mean_squared_error: 0.0112 - val_loss: 0.0109 - val_mean_squared_error: 0.0109\n",
      "Epoch 131/200\n",
      "180/180 [==============================] - 0s 81us/sample - loss: 0.0111 - mean_squared_error: 0.0111 - val_loss: 0.0108 - val_mean_squared_error: 0.0108\n",
      "Epoch 132/200\n",
      "180/180 [==============================] - 0s 94us/sample - loss: 0.0111 - mean_squared_error: 0.0111 - val_loss: 0.0108 - val_mean_squared_error: 0.0108\n",
      "Epoch 133/200\n",
      "180/180 [==============================] - 0s 86us/sample - loss: 0.0111 - mean_squared_error: 0.0111 - val_loss: 0.0107 - val_mean_squared_error: 0.0107\n",
      "Epoch 134/200\n",
      "180/180 [==============================] - 0s 85us/sample - loss: 0.0110 - mean_squared_error: 0.0110 - val_loss: 0.0107 - val_mean_squared_error: 0.0107\n",
      "Epoch 135/200\n",
      "180/180 [==============================] - 0s 76us/sample - loss: 0.0110 - mean_squared_error: 0.0110 - val_loss: 0.0106 - val_mean_squared_error: 0.0106\n",
      "Epoch 136/200\n",
      "180/180 [==============================] - 0s 84us/sample - loss: 0.0110 - mean_squared_error: 0.0110 - val_loss: 0.0105 - val_mean_squared_error: 0.0105\n",
      "Epoch 137/200\n",
      "180/180 [==============================] - 0s 71us/sample - loss: 0.0109 - mean_squared_error: 0.0109 - val_loss: 0.0105 - val_mean_squared_error: 0.0105\n",
      "Epoch 138/200\n",
      "180/180 [==============================] - 0s 69us/sample - loss: 0.0109 - mean_squared_error: 0.0109 - val_loss: 0.0104 - val_mean_squared_error: 0.0104\n",
      "Epoch 139/200\n",
      "180/180 [==============================] - 0s 47us/sample - loss: 0.0109 - mean_squared_error: 0.0109 - val_loss: 0.0104 - val_mean_squared_error: 0.0104\n",
      "Epoch 140/200\n",
      "180/180 [==============================] - 0s 69us/sample - loss: 0.0108 - mean_squared_error: 0.0108 - val_loss: 0.0104 - val_mean_squared_error: 0.0104\n",
      "Epoch 141/200\n",
      "180/180 [==============================] - 0s 96us/sample - loss: 0.0108 - mean_squared_error: 0.0108 - val_loss: 0.0103 - val_mean_squared_error: 0.0103\n",
      "Epoch 142/200\n",
      "180/180 [==============================] - 0s 104us/sample - loss: 0.0108 - mean_squared_error: 0.0108 - val_loss: 0.0103 - val_mean_squared_error: 0.0103\n",
      "Epoch 143/200\n",
      "180/180 [==============================] - 0s 85us/sample - loss: 0.0108 - mean_squared_error: 0.0108 - val_loss: 0.0102 - val_mean_squared_error: 0.0102\n",
      "Epoch 144/200\n",
      "180/180 [==============================] - 0s 66us/sample - loss: 0.0108 - mean_squared_error: 0.0108 - val_loss: 0.0102 - val_mean_squared_error: 0.0102\n",
      "Epoch 145/200\n",
      "180/180 [==============================] - 0s 82us/sample - loss: 0.0107 - mean_squared_error: 0.0107 - val_loss: 0.0102 - val_mean_squared_error: 0.0102\n",
      "Epoch 146/200\n",
      "180/180 [==============================] - 0s 92us/sample - loss: 0.0107 - mean_squared_error: 0.0107 - val_loss: 0.0101 - val_mean_squared_error: 0.0101\n",
      "Epoch 147/200\n",
      "180/180 [==============================] - 0s 103us/sample - loss: 0.0107 - mean_squared_error: 0.0107 - val_loss: 0.0101 - val_mean_squared_error: 0.0101\n"
     ]
    },
    {
     "name": "stdout",
     "output_type": "stream",
     "text": [
      "Epoch 148/200\n",
      "180/180 [==============================] - 0s 79us/sample - loss: 0.0107 - mean_squared_error: 0.0107 - val_loss: 0.0101 - val_mean_squared_error: 0.0101\n",
      "Epoch 149/200\n",
      "180/180 [==============================] - 0s 62us/sample - loss: 0.0107 - mean_squared_error: 0.0107 - val_loss: 0.0100 - val_mean_squared_error: 0.0100\n",
      "Epoch 150/200\n",
      "180/180 [==============================] - 0s 99us/sample - loss: 0.0107 - mean_squared_error: 0.0107 - val_loss: 0.0100 - val_mean_squared_error: 0.0100\n",
      "Epoch 151/200\n",
      "180/180 [==============================] - 0s 94us/sample - loss: 0.0107 - mean_squared_error: 0.0107 - val_loss: 0.0100 - val_mean_squared_error: 0.0100\n",
      "Epoch 152/200\n",
      "180/180 [==============================] - 0s 103us/sample - loss: 0.0107 - mean_squared_error: 0.0107 - val_loss: 0.0100 - val_mean_squared_error: 0.0100\n",
      "Epoch 153/200\n",
      "180/180 [==============================] - 0s 76us/sample - loss: 0.0106 - mean_squared_error: 0.0106 - val_loss: 0.0099 - val_mean_squared_error: 0.0099\n",
      "Epoch 154/200\n",
      "180/180 [==============================] - 0s 70us/sample - loss: 0.0106 - mean_squared_error: 0.0106 - val_loss: 0.0099 - val_mean_squared_error: 0.0099\n",
      "Epoch 155/200\n",
      "180/180 [==============================] - 0s 89us/sample - loss: 0.0106 - mean_squared_error: 0.0106 - val_loss: 0.0099 - val_mean_squared_error: 0.0099\n",
      "Epoch 156/200\n",
      "180/180 [==============================] - 0s 81us/sample - loss: 0.0106 - mean_squared_error: 0.0106 - val_loss: 0.0099 - val_mean_squared_error: 0.0099\n",
      "Epoch 157/200\n",
      "180/180 [==============================] - 0s 73us/sample - loss: 0.0106 - mean_squared_error: 0.0106 - val_loss: 0.0099 - val_mean_squared_error: 0.0099\n",
      "Epoch 158/200\n",
      "180/180 [==============================] - 0s 79us/sample - loss: 0.0106 - mean_squared_error: 0.0106 - val_loss: 0.0098 - val_mean_squared_error: 0.0098\n",
      "Epoch 159/200\n",
      "180/180 [==============================] - 0s 102us/sample - loss: 0.0106 - mean_squared_error: 0.0106 - val_loss: 0.0098 - val_mean_squared_error: 0.0098\n",
      "Epoch 160/200\n",
      "180/180 [==============================] - 0s 77us/sample - loss: 0.0106 - mean_squared_error: 0.0106 - val_loss: 0.0098 - val_mean_squared_error: 0.0098\n",
      "Epoch 161/200\n",
      "180/180 [==============================] - 0s 92us/sample - loss: 0.0106 - mean_squared_error: 0.0106 - val_loss: 0.0098 - val_mean_squared_error: 0.0098\n",
      "Epoch 162/200\n",
      "180/180 [==============================] - 0s 82us/sample - loss: 0.0106 - mean_squared_error: 0.0106 - val_loss: 0.0098 - val_mean_squared_error: 0.0098\n",
      "Epoch 163/200\n",
      "180/180 [==============================] - 0s 103us/sample - loss: 0.0106 - mean_squared_error: 0.0106 - val_loss: 0.0098 - val_mean_squared_error: 0.0098\n",
      "Epoch 164/200\n",
      "180/180 [==============================] - 0s 85us/sample - loss: 0.0106 - mean_squared_error: 0.0106 - val_loss: 0.0098 - val_mean_squared_error: 0.0098\n",
      "Epoch 165/200\n",
      "180/180 [==============================] - 0s 64us/sample - loss: 0.0106 - mean_squared_error: 0.0106 - val_loss: 0.0098 - val_mean_squared_error: 0.0098\n",
      "Epoch 166/200\n",
      "180/180 [==============================] - 0s 100us/sample - loss: 0.0106 - mean_squared_error: 0.0106 - val_loss: 0.0097 - val_mean_squared_error: 0.0097\n",
      "Epoch 167/200\n",
      "180/180 [==============================] - 0s 88us/sample - loss: 0.0106 - mean_squared_error: 0.0106 - val_loss: 0.0097 - val_mean_squared_error: 0.0097\n",
      "Epoch 168/200\n",
      "180/180 [==============================] - 0s 62us/sample - loss: 0.0106 - mean_squared_error: 0.0106 - val_loss: 0.0097 - val_mean_squared_error: 0.0097\n",
      "Epoch 169/200\n",
      "180/180 [==============================] - 0s 68us/sample - loss: 0.0106 - mean_squared_error: 0.0106 - val_loss: 0.0097 - val_mean_squared_error: 0.0097\n",
      "Epoch 170/200\n",
      "180/180 [==============================] - 0s 78us/sample - loss: 0.0106 - mean_squared_error: 0.0106 - val_loss: 0.0097 - val_mean_squared_error: 0.0097\n",
      "Epoch 171/200\n",
      "180/180 [==============================] - 0s 74us/sample - loss: 0.0106 - mean_squared_error: 0.0106 - val_loss: 0.0097 - val_mean_squared_error: 0.0097\n",
      "Epoch 172/200\n",
      "180/180 [==============================] - 0s 83us/sample - loss: 0.0106 - mean_squared_error: 0.0106 - val_loss: 0.0097 - val_mean_squared_error: 0.0097\n",
      "Epoch 173/200\n",
      "180/180 [==============================] - 0s 79us/sample - loss: 0.0106 - mean_squared_error: 0.0106 - val_loss: 0.0097 - val_mean_squared_error: 0.0097\n",
      "Epoch 174/200\n",
      "180/180 [==============================] - 0s 96us/sample - loss: 0.0106 - mean_squared_error: 0.0106 - val_loss: 0.0097 - val_mean_squared_error: 0.0097\n",
      "Epoch 175/200\n",
      "180/180 [==============================] - 0s 81us/sample - loss: 0.0106 - mean_squared_error: 0.0106 - val_loss: 0.0097 - val_mean_squared_error: 0.0097\n",
      "Epoch 176/200\n",
      "180/180 [==============================] - 0s 83us/sample - loss: 0.0106 - mean_squared_error: 0.0106 - val_loss: 0.0097 - val_mean_squared_error: 0.0097\n",
      "Epoch 177/200\n",
      "180/180 [==============================] - 0s 172us/sample - loss: 0.0106 - mean_squared_error: 0.0106 - val_loss: 0.0097 - val_mean_squared_error: 0.0097\n",
      "Epoch 178/200\n",
      "180/180 [==============================] - 0s 134us/sample - loss: 0.0106 - mean_squared_error: 0.0106 - val_loss: 0.0097 - val_mean_squared_error: 0.0097\n",
      "Epoch 179/200\n",
      "180/180 [==============================] - 0s 58us/sample - loss: 0.0106 - mean_squared_error: 0.0106 - val_loss: 0.0096 - val_mean_squared_error: 0.0096\n",
      "Epoch 180/200\n",
      "180/180 [==============================] - 0s 124us/sample - loss: 0.0105 - mean_squared_error: 0.0105 - val_loss: 0.0096 - val_mean_squared_error: 0.0096\n",
      "Epoch 181/200\n",
      "180/180 [==============================] - 0s 136us/sample - loss: 0.0105 - mean_squared_error: 0.0105 - val_loss: 0.0097 - val_mean_squared_error: 0.0097\n",
      "Epoch 182/200\n",
      "180/180 [==============================] - 0s 107us/sample - loss: 0.0105 - mean_squared_error: 0.0105 - val_loss: 0.0097 - val_mean_squared_error: 0.0097\n",
      "Epoch 183/200\n",
      "180/180 [==============================] - 0s 147us/sample - loss: 0.0105 - mean_squared_error: 0.0105 - val_loss: 0.0097 - val_mean_squared_error: 0.0097\n",
      "Epoch 184/200\n",
      "180/180 [==============================] - 0s 106us/sample - loss: 0.0105 - mean_squared_error: 0.0105 - val_loss: 0.0097 - val_mean_squared_error: 0.0097\n",
      "Epoch 185/200\n",
      "180/180 [==============================] - 0s 73us/sample - loss: 0.0105 - mean_squared_error: 0.0105 - val_loss: 0.0097 - val_mean_squared_error: 0.0097\n",
      "Epoch 186/200\n",
      "180/180 [==============================] - 0s 87us/sample - loss: 0.0105 - mean_squared_error: 0.0105 - val_loss: 0.0096 - val_mean_squared_error: 0.0096\n",
      "Epoch 187/200\n",
      "180/180 [==============================] - 0s 112us/sample - loss: 0.0105 - mean_squared_error: 0.0105 - val_loss: 0.0096 - val_mean_squared_error: 0.0096\n",
      "Epoch 188/200\n",
      "180/180 [==============================] - 0s 139us/sample - loss: 0.0105 - mean_squared_error: 0.0105 - val_loss: 0.0096 - val_mean_squared_error: 0.0096\n",
      "Epoch 189/200\n",
      "180/180 [==============================] - 0s 132us/sample - loss: 0.0105 - mean_squared_error: 0.0105 - val_loss: 0.0096 - val_mean_squared_error: 0.0096\n",
      "Epoch 190/200\n",
      "180/180 [==============================] - 0s 107us/sample - loss: 0.0105 - mean_squared_error: 0.0105 - val_loss: 0.0096 - val_mean_squared_error: 0.0096\n",
      "Epoch 191/200\n",
      "180/180 [==============================] - 0s 98us/sample - loss: 0.0105 - mean_squared_error: 0.0105 - val_loss: 0.0096 - val_mean_squared_error: 0.0096\n",
      "Epoch 192/200\n",
      "180/180 [==============================] - 0s 71us/sample - loss: 0.0105 - mean_squared_error: 0.0105 - val_loss: 0.0096 - val_mean_squared_error: 0.0096\n",
      "Epoch 193/200\n",
      "180/180 [==============================] - 0s 122us/sample - loss: 0.0105 - mean_squared_error: 0.0105 - val_loss: 0.0096 - val_mean_squared_error: 0.0096\n",
      "Epoch 194/200\n",
      "180/180 [==============================] - 0s 128us/sample - loss: 0.0105 - mean_squared_error: 0.0105 - val_loss: 0.0096 - val_mean_squared_error: 0.0096\n",
      "Epoch 195/200\n",
      "180/180 [==============================] - 0s 108us/sample - loss: 0.0105 - mean_squared_error: 0.0105 - val_loss: 0.0096 - val_mean_squared_error: 0.0096\n",
      "Epoch 196/200\n",
      "180/180 [==============================] - 0s 120us/sample - loss: 0.0105 - mean_squared_error: 0.0105 - val_loss: 0.0096 - val_mean_squared_error: 0.0096\n"
     ]
    },
    {
     "name": "stdout",
     "output_type": "stream",
     "text": [
      "Epoch 197/200\n",
      "180/180 [==============================] - 0s 82us/sample - loss: 0.0105 - mean_squared_error: 0.0105 - val_loss: 0.0096 - val_mean_squared_error: 0.0096\n",
      "Epoch 198/200\n",
      "180/180 [==============================] - 0s 109us/sample - loss: 0.0105 - mean_squared_error: 0.0105 - val_loss: 0.0096 - val_mean_squared_error: 0.0096\n",
      "Epoch 199/200\n",
      "180/180 [==============================] - 0s 127us/sample - loss: 0.0105 - mean_squared_error: 0.0105 - val_loss: 0.0096 - val_mean_squared_error: 0.0096\n",
      "Epoch 200/200\n",
      "180/180 [==============================] - 0s 102us/sample - loss: 0.0105 - mean_squared_error: 0.0105 - val_loss: 0.0096 - val_mean_squared_error: 0.0096\n"
     ]
    },
    {
     "data": {
      "text/plain": [
       "<tensorflow.python.keras.callbacks.History at 0x7f6d08bb2be0>"
      ]
     },
     "execution_count": 28,
     "metadata": {},
     "output_type": "execute_result"
    }
   ],
   "source": [
    "model.fit(xs[:n_train], ys[:n_train], epochs=200,\n",
    "          validation_data=(xs[n_train:], ys[n_train:]))"
   ]
  },
  {
   "cell_type": "code",
   "execution_count": 29,
   "metadata": {},
   "outputs": [
    {
     "data": {
      "text/plain": [
       "0.009600508"
      ]
     },
     "execution_count": 29,
     "metadata": {},
     "output_type": "execute_result"
    }
   ],
   "source": [
    "model.metrics[0].result().numpy()"
   ]
  },
  {
   "cell_type": "code",
   "execution_count": 30,
   "metadata": {},
   "outputs": [
    {
     "data": {
      "text/plain": [
       "[<tf.Variable 'dense_4/kernel:0' shape=(2, 2) dtype=float32, numpy=\n",
       " array([[-3.015784  ,  0.03599377],\n",
       "        [ 0.01064597, -4.9894624 ]], dtype=float32)>]"
      ]
     },
     "execution_count": 30,
     "metadata": {},
     "output_type": "execute_result"
    }
   ],
   "source": [
    "model.dense.weights"
   ]
  },
  {
   "cell_type": "code",
   "execution_count": 31,
   "metadata": {},
   "outputs": [],
   "source": [
    "n = 100\n",
    "x = np.linspace(-0.5,0.5,n)\n",
    "y = np.linspace(-0.5,0.5,n)\n",
    "X, Y = np.meshgrid(x,y)\n",
    "\n",
    "samples = np.stack((X,Y), axis=-1)\n",
    "samples_flat = np.reshape(samples, (n*n, 2))\n",
    "res_flat = model.apply(samples_flat)\n",
    "res = np.reshape(res_flat, (n,n,2))\n",
    "z1 = res[..., 0]\n",
    "z2 = res[..., 1]"
   ]
  },
  {
   "cell_type": "code",
   "execution_count": 32,
   "metadata": {},
   "outputs": [
    {
     "data": {
      "text/plain": [
       "Text(0, 0.5, '$x_2$')"
      ]
     },
     "execution_count": 32,
     "metadata": {},
     "output_type": "execute_result"
    },
    {
     "data": {
      "image/png": "[encoded data removed]",
      "text/plain": [
       "<Figure size 432x288 with 2 Axes>"
      ]
     },
     "metadata": {
      "needs_background": "light"
     },
     "output_type": "display_data"
    }
   ],
   "source": [
    "pcol = plt.pcolor(X, Y, z1, vmin=-2.0,vmax=2.0)\n",
    "plt.contour(X, Y, z1, colors=\"white\", linestyles=\"-\")\n",
    "cbar = plt.colorbar(pcol)\n",
    "cbar.ax.set_ylabel(r\"Prediction $y_1$\")\n",
    "plt.xlabel(\"$x_1$\")\n",
    "plt.ylabel(\"$x_2$\")"
   ]
  },
  {
   "cell_type": "code",
   "execution_count": 33,
   "metadata": {},
   "outputs": [
    {
     "data": {
      "text/plain": [
       "Text(0, 0.5, '$x_2$')"
      ]
     },
     "execution_count": 33,
     "metadata": {},
     "output_type": "execute_result"
    },
    {
     "data": {
      "image/png": "[encoded data removed]",
      "text/plain": [
       "<Figure size 432x288 with 2 Axes>"
      ]
     },
     "metadata": {
      "needs_background": "light"
     },
     "output_type": "display_data"
    }
   ],
   "source": [
    "pcol = plt.pcolor(X, Y, z2, vmin=-2.0,vmax=2.0)\n",
    "plt.contour(X, Y, z2, colors=\"white\", linestyles=\"-\")\n",
    "cbar = plt.colorbar(pcol)\n",
    "cbar.ax.set_ylabel(r\"Prediction $y_2$\")\n",
    "plt.xlabel(\"$x_1$\")\n",
    "plt.ylabel(\"$x_2$\")"
   ]
  },
  {
   "cell_type": "markdown",
   "metadata": {},
   "source": [
    "Let's save the weights to file for later usage. In particular this will write a single [checkpoint](https://www.tensorflow.org/beta/guide/checkpoints)."
   ]
  },
  {
   "cell_type": "code",
   "execution_count": 34,
   "metadata": {},
   "outputs": [],
   "source": [
    "model.save_weights(\"./hooke-model\")"
   ]
  },
  {
   "cell_type": "code",
   "execution_count": 35,
   "metadata": {},
   "outputs": [
    {
     "name": "stdout",
     "output_type": "stream",
     "text": [
      "hooke-model.data-00000-of-00001\r\n",
      "hooke-model.index\r\n"
     ]
    }
   ],
   "source": [
    "!ls | grep hooke-model"
   ]
  },
  {
   "cell_type": "code",
   "execution_count": 36,
   "metadata": {},
   "outputs": [
    {
     "data": {
      "text/plain": [
       "[<tf.Variable 'dense_5/kernel:0' shape=(2, 2) dtype=float32, numpy=\n",
       " array([[-3.015784  ,  0.03599377],\n",
       "        [ 0.01064597, -4.9894624 ]], dtype=float32)>]"
      ]
     },
     "execution_count": 36,
     "metadata": {},
     "output_type": "execute_result"
    }
   ],
   "source": [
    "loaded = MyModel()\n",
    "loaded.build((None, 2))\n",
    "loaded.load_weights(\"./hooke-model\")\n",
    "loaded.dense.weights"
   ]
  },
  {
   "cell_type": "markdown",
   "metadata": {},
   "source": [
    "### 4) Overfitting\n",
    "- Checkpointing with `keras.callbacks.ModelCheckpoint`\n",
    "- Visualize training metrics using `history`\n",
    "\n",
    "In the previous example we knew exactly how many parameters are required to reconstruct the given data (up to noise). In the general case, the optimal complexity of a model is not known _a priori_.\n",
    "\n",
    "To demonstrate this let's use a model with much more parameters than there are datapoints. In other words, the model is much too expressive for the problem and the amount of data we have."
   ]
  },
  {
   "cell_type": "code",
   "execution_count": 37,
   "metadata": {},
   "outputs": [],
   "source": [
    "model = tf.keras.models.Sequential([\n",
    "    tf.keras.layers.Flatten(input_shape=(28, 28)),\n",
    "    tf.keras.layers.Dense(256, activation=tf.nn.relu),\n",
    "    tf.keras.layers.Dense(256, activation=tf.nn.relu),\n",
    "    tf.keras.layers.Dense(256, activation=tf.nn.relu),\n",
    "    tf.keras.layers.Dense(10, activation=tf.nn.softmax)\n",
    "])\n",
    "model.compile(optimizer=tf.keras.optimizers.Adam(1e-3),\n",
    "              loss=tf.keras.losses.SparseCategoricalCrossentropy(),\n",
    "              metrics=[tf.keras.metrics.SparseCategoricalAccuracy()])"
   ]
  },
  {
   "cell_type": "code",
   "execution_count": 38,
   "metadata": {},
   "outputs": [
    {
     "name": "stdout",
     "output_type": "stream",
     "text": [
      "Model: \"sequential_1\"\n",
      "_________________________________________________________________\n",
      "Layer (type)                 Output Shape              Param #   \n",
      "=================================================================\n",
      "flatten_2 (Flatten)          (None, 784)               0         \n",
      "_________________________________________________________________\n",
      "dense_6 (Dense)              (None, 256)               200960    \n",
      "_________________________________________________________________\n",
      "dense_7 (Dense)              (None, 256)               65792     \n",
      "_________________________________________________________________\n",
      "dense_8 (Dense)              (None, 256)               65792     \n",
      "_________________________________________________________________\n",
      "dense_9 (Dense)              (None, 10)                2570      \n",
      "=================================================================\n",
      "Total params: 335,114\n",
      "Trainable params: 335,114\n",
      "Non-trainable params: 0\n",
      "_________________________________________________________________\n"
     ]
    }
   ],
   "source": [
    "model.summary()"
   ]
  },
  {
   "cell_type": "code",
   "execution_count": 39,
   "metadata": {},
   "outputs": [],
   "source": [
    "checkpoint_dir = \"./overfit_ckpts\"\n",
    "model_checkpoint = tf.keras.callbacks.ModelCheckpoint(filepath=os.path.join(checkpoint_dir, \"of-model\"))"
   ]
  },
  {
   "cell_type": "code",
   "execution_count": 40,
   "metadata": {
    "scrolled": true
   },
   "outputs": [
    {
     "name": "stdout",
     "output_type": "stream",
     "text": [
      "Train on 60 samples, validate on 10000 samples\n",
      "Epoch 1/40\n",
      "60/60 [==============================] - 2s 26ms/sample - loss: 2.3218 - sparse_categorical_accuracy: 0.0833 - val_loss: 2.2263 - val_sparse_categorical_accuracy: 0.2288\n",
      "Epoch 2/40\n",
      "60/60 [==============================] - 1s 14ms/sample - loss: 2.0861 - sparse_categorical_accuracy: 0.4833 - val_loss: 2.1479 - val_sparse_categorical_accuracy: 0.2868\n",
      "Epoch 3/40\n",
      "60/60 [==============================] - 1s 18ms/sample - loss: 1.8970 - sparse_categorical_accuracy: 0.6833 - val_loss: 2.0656 - val_sparse_categorical_accuracy: 0.3415\n",
      "Epoch 4/40\n",
      "60/60 [==============================] - 1s 25ms/sample - loss: 1.7048 - sparse_categorical_accuracy: 0.7500 - val_loss: 1.9704 - val_sparse_categorical_accuracy: 0.4174\n",
      "Epoch 5/40\n",
      "60/60 [==============================] - 1s 20ms/sample - loss: 1.4937 - sparse_categorical_accuracy: 0.8333 - val_loss: 1.8584 - val_sparse_categorical_accuracy: 0.5030\n",
      "Epoch 6/40\n",
      "60/60 [==============================] - 1s 13ms/sample - loss: 1.2672 - sparse_categorical_accuracy: 0.8500 - val_loss: 1.7297 - val_sparse_categorical_accuracy: 0.5750\n",
      "Epoch 7/40\n",
      "60/60 [==============================] - 1s 16ms/sample - loss: 1.0372 - sparse_categorical_accuracy: 0.8667 - val_loss: 1.5937 - val_sparse_categorical_accuracy: 0.6106\n",
      "Epoch 8/40\n",
      "60/60 [==============================] - 1s 16ms/sample - loss: 0.8172 - sparse_categorical_accuracy: 0.9333 - val_loss: 1.4627 - val_sparse_categorical_accuracy: 0.6252\n",
      "Epoch 9/40\n",
      "60/60 [==============================] - 1s 21ms/sample - loss: 0.6192 - sparse_categorical_accuracy: 0.9667 - val_loss: 1.3429 - val_sparse_categorical_accuracy: 0.6307\n",
      "Epoch 10/40\n",
      "60/60 [==============================] - 1s 22ms/sample - loss: 0.4512 - sparse_categorical_accuracy: 0.9667 - val_loss: 1.2377 - val_sparse_categorical_accuracy: 0.6424\n",
      "Epoch 11/40\n",
      "60/60 [==============================] - 1s 19ms/sample - loss: 0.3166 - sparse_categorical_accuracy: 0.9833 - val_loss: 1.1489 - val_sparse_categorical_accuracy: 0.6491\n",
      "Epoch 12/40\n",
      "60/60 [==============================] - 1s 18ms/sample - loss: 0.2156 - sparse_categorical_accuracy: 1.0000 - val_loss: 1.0711 - val_sparse_categorical_accuracy: 0.6562\n",
      "Epoch 13/40\n",
      "60/60 [==============================] - 1s 13ms/sample - loss: 0.1410 - sparse_categorical_accuracy: 1.0000 - val_loss: 1.0044 - val_sparse_categorical_accuracy: 0.6655\n",
      "Epoch 14/40\n",
      "60/60 [==============================] - 1s 14ms/sample - loss: 0.0874 - sparse_categorical_accuracy: 1.0000 - val_loss: 0.9601 - val_sparse_categorical_accuracy: 0.6723\n",
      "Epoch 15/40\n",
      "60/60 [==============================] - 1s 18ms/sample - loss: 0.0538 - sparse_categorical_accuracy: 1.0000 - val_loss: 0.9348 - val_sparse_categorical_accuracy: 0.6791\n",
      "Epoch 16/40\n",
      "60/60 [==============================] - 1s 15ms/sample - loss: 0.0338 - sparse_categorical_accuracy: 1.0000 - val_loss: 0.9217 - val_sparse_categorical_accuracy: 0.6888\n",
      "Epoch 17/40\n",
      "60/60 [==============================] - 1s 14ms/sample - loss: 0.0210 - sparse_categorical_accuracy: 1.0000 - val_loss: 0.9214 - val_sparse_categorical_accuracy: 0.6953\n",
      "Epoch 18/40\n",
      "60/60 [==============================] - 1s 14ms/sample - loss: 0.0132 - sparse_categorical_accuracy: 1.0000 - val_loss: 0.9338 - val_sparse_categorical_accuracy: 0.6978\n",
      "Epoch 19/40\n",
      "60/60 [==============================] - 1s 14ms/sample - loss: 0.0085 - sparse_categorical_accuracy: 1.0000 - val_loss: 0.9552 - val_sparse_categorical_accuracy: 0.6982\n",
      "Epoch 20/40\n",
      "60/60 [==============================] - 1s 20ms/sample - loss: 0.0055 - sparse_categorical_accuracy: 1.0000 - val_loss: 0.9825 - val_sparse_categorical_accuracy: 0.6978\n",
      "Epoch 21/40\n",
      "60/60 [==============================] - 1s 16ms/sample - loss: 0.0035 - sparse_categorical_accuracy: 1.0000 - val_loss: 1.0146 - val_sparse_categorical_accuracy: 0.6959\n",
      "Epoch 22/40\n",
      "60/60 [==============================] - 1s 15ms/sample - loss: 0.0022 - sparse_categorical_accuracy: 1.0000 - val_loss: 1.0511 - val_sparse_categorical_accuracy: 0.6954\n",
      "Epoch 23/40\n",
      "60/60 [==============================] - 1s 15ms/sample - loss: 0.0014 - sparse_categorical_accuracy: 1.0000 - val_loss: 1.0912 - val_sparse_categorical_accuracy: 0.6949\n",
      "Epoch 24/40\n",
      "60/60 [==============================] - 1s 17ms/sample - loss: 9.2519e-04 - sparse_categorical_accuracy: 1.0000 - val_loss: 1.1335 - val_sparse_categorical_accuracy: 0.6924\n",
      "Epoch 25/40\n",
      "60/60 [==============================] - 1s 18ms/sample - loss: 6.4102e-04 - sparse_categorical_accuracy: 1.0000 - val_loss: 1.1767 - val_sparse_categorical_accuracy: 0.6895\n",
      "Epoch 26/40\n",
      "60/60 [==============================] - 1s 15ms/sample - loss: 4.6312e-04 - sparse_categorical_accuracy: 1.0000 - val_loss: 1.2195 - val_sparse_categorical_accuracy: 0.6875\n",
      "Epoch 27/40\n",
      "60/60 [==============================] - 1s 19ms/sample - loss: 3.4693e-04 - sparse_categorical_accuracy: 1.0000 - val_loss: 1.2612 - val_sparse_categorical_accuracy: 0.6859\n",
      "Epoch 28/40\n",
      "60/60 [==============================] - 1s 15ms/sample - loss: 2.6732e-04 - sparse_categorical_accuracy: 1.0000 - val_loss: 1.3011 - val_sparse_categorical_accuracy: 0.6837\n",
      "Epoch 29/40\n",
      "60/60 [==============================] - 1s 16ms/sample - loss: 2.1023e-04 - sparse_categorical_accuracy: 1.0000 - val_loss: 1.3389 - val_sparse_categorical_accuracy: 0.6824\n",
      "Epoch 30/40\n",
      "60/60 [==============================] - 1s 16ms/sample - loss: 1.6787e-04 - sparse_categorical_accuracy: 1.0000 - val_loss: 1.3742 - val_sparse_categorical_accuracy: 0.6814\n",
      "Epoch 31/40\n",
      "60/60 [==============================] - 1s 16ms/sample - loss: 1.3590e-04 - sparse_categorical_accuracy: 1.0000 - val_loss: 1.4071 - val_sparse_categorical_accuracy: 0.6800\n",
      "Epoch 32/40\n",
      "60/60 [==============================] - 1s 20ms/sample - loss: 1.1134e-04 - sparse_categorical_accuracy: 1.0000 - val_loss: 1.4376 - val_sparse_categorical_accuracy: 0.6794\n",
      "Epoch 33/40\n",
      "60/60 [==============================] - 1s 16ms/sample - loss: 9.2225e-05 - sparse_categorical_accuracy: 1.0000 - val_loss: 1.4658 - val_sparse_categorical_accuracy: 0.6781\n",
      "Epoch 34/40\n",
      "60/60 [==============================] - 1s 17ms/sample - loss: 7.7260e-05 - sparse_categorical_accuracy: 1.0000 - val_loss: 1.4916 - val_sparse_categorical_accuracy: 0.6777\n",
      "Epoch 35/40\n",
      "60/60 [==============================] - 1s 18ms/sample - loss: 6.5347e-05 - sparse_categorical_accuracy: 1.0000 - val_loss: 1.5151 - val_sparse_categorical_accuracy: 0.6776\n",
      "Epoch 36/40\n",
      "60/60 [==============================] - 1s 17ms/sample - loss: 5.5891e-05 - sparse_categorical_accuracy: 1.0000 - val_loss: 1.5368 - val_sparse_categorical_accuracy: 0.6773\n",
      "Epoch 37/40\n",
      "60/60 [==============================] - 1s 17ms/sample - loss: 4.8361e-05 - sparse_categorical_accuracy: 1.0000 - val_loss: 1.5565 - val_sparse_categorical_accuracy: 0.6772\n",
      "Epoch 38/40\n",
      "60/60 [==============================] - 1s 16ms/sample - loss: 4.2324e-05 - sparse_categorical_accuracy: 1.0000 - val_loss: 1.5746 - val_sparse_categorical_accuracy: 0.6768\n",
      "Epoch 39/40\n",
      "60/60 [==============================] - 1s 22ms/sample - loss: 3.7427e-05 - sparse_categorical_accuracy: 1.0000 - val_loss: 1.5911 - val_sparse_categorical_accuracy: 0.6761\n",
      "Epoch 40/40\n",
      "60/60 [==============================] - 1s 20ms/sample - loss: 3.3452e-05 - sparse_categorical_accuracy: 1.0000 - val_loss: 1.6061 - val_sparse_categorical_accuracy: 0.6751\n"
     ]
    }
   ],
   "source": [
    "history = model.fit(x_train[::1000], y_train[::1000], epochs=40, validation_data=(x_test, y_test), \n",
    "                    callbacks=[model_checkpoint], batch_size=64)"
   ]
  },
  {
   "cell_type": "code",
   "execution_count": 41,
   "metadata": {},
   "outputs": [
    {
     "data": {
      "text/plain": [
       "[0,\n",
       " 1,\n",
       " 2,\n",
       " 3,\n",
       " 4,\n",
       " 5,\n",
       " 6,\n",
       " 7,\n",
       " 8,\n",
       " 9,\n",
       " 10,\n",
       " 11,\n",
       " 12,\n",
       " 13,\n",
       " 14,\n",
       " 15,\n",
       " 16,\n",
       " 17,\n",
       " 18,\n",
       " 19,\n",
       " 20,\n",
       " 21,\n",
       " 22,\n",
       " 23,\n",
       " 24,\n",
       " 25,\n",
       " 26,\n",
       " 27,\n",
       " 28,\n",
       " 29,\n",
       " 30,\n",
       " 31,\n",
       " 32,\n",
       " 33,\n",
       " 34,\n",
       " 35,\n",
       " 36,\n",
       " 37,\n",
       " 38,\n",
       " 39]"
      ]
     },
     "execution_count": 41,
     "metadata": {},
     "output_type": "execute_result"
    }
   ],
   "source": [
    "history.epoch"
   ]
  },
  {
   "cell_type": "code",
   "execution_count": 42,
   "metadata": {},
   "outputs": [
    {
     "data": {
      "text/plain": [
       "dict_keys(['loss', 'sparse_categorical_accuracy', 'val_loss', 'val_sparse_categorical_accuracy'])"
      ]
     },
     "execution_count": 42,
     "metadata": {},
     "output_type": "execute_result"
    }
   ],
   "source": [
    "history.history.keys()"
   ]
  },
  {
   "cell_type": "code",
   "execution_count": 43,
   "metadata": {},
   "outputs": [
    {
     "data": {
      "image/png": "[encoded data removed]",
      "text/plain": [
       "<Figure size 576x216 with 2 Axes>"
      ]
     },
     "metadata": {
      "needs_background": "light"
     },
     "output_type": "display_data"
    }
   ],
   "source": [
    "fig, axes = plt.subplots(1,2, figsize=(8,3))\n",
    "\n",
    "plt.sca(axes[0])\n",
    "plt.plot(history.epoch, history.history[\"loss\"], label=\"train loss\")\n",
    "plt.plot(history.epoch, history.history[\"val_loss\"], label=\"val loss\")\n",
    "plt.legend()\n",
    "plt.xlabel(\"epochs\")\n",
    "plt.ylabel(\"loss\")\n",
    "#plt.yscale(\"log\")\n",
    "\n",
    "plt.sca(axes[1])\n",
    "plt.plot(history.epoch, history.history[\"sparse_categorical_accuracy\"],\n",
    "         label=\"train accuracy\")\n",
    "plt.plot(history.epoch, history.history[\"val_sparse_categorical_accuracy\"], \n",
    "         label=\"val accuracy\")\n",
    "plt.legend()\n",
    "plt.xlabel(\"epochs\")\n",
    "plt.ylabel(\"accuracy\")\n",
    "\n",
    "fig.tight_layout()"
   ]
  },
  {
   "cell_type": "markdown",
   "metadata": {},
   "source": [
    "While the performance on the training set always improves, the performance on \"unseen\" data declines after some time. This indicates __overfitting__. The model is too complex/expressive/rich in parameters and can learn the training set by heart. Hence it also occurs when you have too few data.\n",
    "\n",
    "The textbook analogy is doing a polynomial fit, with as many trainable parameters as datapoints.\n",
    "\n",
    "<img src=https://qph.fs.quoracdn.net/main-qimg-28d4d605380ee139f5079e18bacdf630 width=\"300\">\n",
    "image taken from quora"
   ]
  },
  {
   "cell_type": "markdown",
   "metadata": {},
   "source": [
    "Generally overfitting is avoided by choosing a simpler model.\n",
    "### 5) Underfitting\n",
    "Let's consider a very simple model with few parameters. In other words, a model that is not expressive enough to fulfill the desired function."
   ]
  },
  {
   "cell_type": "code",
   "execution_count": 44,
   "metadata": {},
   "outputs": [],
   "source": [
    "model = tf.keras.models.Sequential([\n",
    "    tf.keras.layers.MaxPool2D(pool_size=(8,8), input_shape=(28, 28, 1)),\n",
    "    tf.keras.layers.Flatten(),\n",
    "    tf.keras.layers.Dense(10, activation=tf.nn.softmax)\n",
    "])\n",
    "model.compile(optimizer=tf.keras.optimizers.Adam(),\n",
    "              loss=tf.keras.losses.SparseCategoricalCrossentropy(),\n",
    "              metrics=[tf.keras.metrics.SparseCategoricalAccuracy()])"
   ]
  },
  {
   "cell_type": "code",
   "execution_count": 45,
   "metadata": {},
   "outputs": [
    {
     "name": "stdout",
     "output_type": "stream",
     "text": [
      "Model: \"sequential_2\"\n",
      "_________________________________________________________________\n",
      "Layer (type)                 Output Shape              Param #   \n",
      "=================================================================\n",
      "max_pooling2d (MaxPooling2D) (None, 3, 3, 1)           0         \n",
      "_________________________________________________________________\n",
      "flatten_3 (Flatten)          (None, 9)                 0         \n",
      "_________________________________________________________________\n",
      "dense_10 (Dense)             (None, 10)                100       \n",
      "=================================================================\n",
      "Total params: 100\n",
      "Trainable params: 100\n",
      "Non-trainable params: 0\n",
      "_________________________________________________________________\n"
     ]
    }
   ],
   "source": [
    "model.summary()"
   ]
  },
  {
   "cell_type": "code",
   "execution_count": 46,
   "metadata": {
    "scrolled": true
   },
   "outputs": [
    {
     "name": "stdout",
     "output_type": "stream",
     "text": [
      "Train on 60000 samples, validate on 10000 samples\n",
      "Epoch 1/10\n",
      "60000/60000 [==============================] - 5s 77us/sample - loss: 2.0748 - sparse_categorical_accuracy: 0.2753 - val_loss: 1.9261 - val_sparse_categorical_accuracy: 0.3616\n",
      "Epoch 2/10\n",
      "60000/60000 [==============================] - 4s 62us/sample - loss: 1.8513 - sparse_categorical_accuracy: 0.3707 - val_loss: 1.8089 - val_sparse_categorical_accuracy: 0.3945\n",
      "Epoch 3/10\n",
      "60000/60000 [==============================] - 4s 61us/sample - loss: 1.7766 - sparse_categorical_accuracy: 0.3829 - val_loss: 1.7617 - val_sparse_categorical_accuracy: 0.3971\n",
      "Epoch 4/10\n",
      "60000/60000 [==============================] - 4s 74us/sample - loss: 1.7415 - sparse_categorical_accuracy: 0.3867 - val_loss: 1.7342 - val_sparse_categorical_accuracy: 0.4063\n",
      "Epoch 5/10\n",
      "60000/60000 [==============================] - 6s 94us/sample - loss: 1.7216 - sparse_categorical_accuracy: 0.3960 - val_loss: 1.7189 - val_sparse_categorical_accuracy: 0.4154\n",
      "Epoch 6/10\n",
      "60000/60000 [==============================] - 3s 58us/sample - loss: 1.7089 - sparse_categorical_accuracy: 0.4015 - val_loss: 1.7095 - val_sparse_categorical_accuracy: 0.4151\n",
      "Epoch 7/10\n",
      "60000/60000 [==============================] - 3s 57us/sample - loss: 1.7000 - sparse_categorical_accuracy: 0.4053 - val_loss: 1.7025 - val_sparse_categorical_accuracy: 0.4188\n",
      "Epoch 8/10\n",
      "60000/60000 [==============================] - 3s 57us/sample - loss: 1.6932 - sparse_categorical_accuracy: 0.4085 - val_loss: 1.6966 - val_sparse_categorical_accuracy: 0.4261\n",
      "Epoch 9/10\n",
      "60000/60000 [==============================] - 4s 61us/sample - loss: 1.6881 - sparse_categorical_accuracy: 0.4097 - val_loss: 1.6933 - val_sparse_categorical_accuracy: 0.4261\n",
      "Epoch 10/10\n",
      "60000/60000 [==============================] - 3s 57us/sample - loss: 1.6839 - sparse_categorical_accuracy: 0.4143 - val_loss: 1.6887 - val_sparse_categorical_accuracy: 0.4263\n"
     ]
    }
   ],
   "source": [
    "history = model.fit(x_train2, y_train, epochs=10, validation_data=(x_test2, y_test))"
   ]
  },
  {
   "cell_type": "code",
   "execution_count": 47,
   "metadata": {},
   "outputs": [
    {
     "data": {
      "image/png": "[encoded data removed]",
      "text/plain": [
       "<Figure size 576x216 with 2 Axes>"
      ]
     },
     "metadata": {
      "needs_background": "light"
     },
     "output_type": "display_data"
    }
   ],
   "source": [
    "fig, axes = plt.subplots(1,2, figsize=(8,3))\n",
    "\n",
    "plt.sca(axes[0])\n",
    "plt.plot(history.epoch, history.history[\"loss\"], label=\"train loss\")\n",
    "plt.plot(history.epoch, history.history[\"val_loss\"], label=\"val loss\")\n",
    "plt.legend()\n",
    "plt.xlabel(\"epochs\")\n",
    "plt.ylabel(\"loss\")\n",
    "#plt.yscale(\"log\")\n",
    "\n",
    "plt.sca(axes[1])\n",
    "plt.plot(history.epoch, history.history[\"sparse_categorical_accuracy\"],\n",
    "         label=\"train accuracy\")\n",
    "plt.plot(history.epoch, history.history[\"val_sparse_categorical_accuracy\"], \n",
    "         label=\"val accuracy\")\n",
    "plt.legend()\n",
    "plt.xlabel(\"epochs\")\n",
    "plt.ylabel(\"accuracy\")\n",
    "\n",
    "fig.tight_layout()"
   ]
  },
  {
   "cell_type": "markdown",
   "metadata": {},
   "source": [
    "Here we certainly do not overfit, but we cannot even make good predictions on the training data. This is __underfitting__. The model we chose has too little complexity/is too strongly biased.\n",
    "\n",
    "E.g. consider the prediction of the digit 'five':"
   ]
  },
  {
   "cell_type": "code",
   "execution_count": 48,
   "metadata": {},
   "outputs": [
    {
     "data": {
      "text/plain": [
       "<BarContainer object of 10 artists>"
      ]
     },
     "execution_count": 48,
     "metadata": {},
     "output_type": "execute_result"
    },
    {
     "data": {
      "image/png": "[encoded data removed]",
      "text/plain": [
       "<Figure size 432x288 with 1 Axes>"
      ]
     },
     "metadata": {
      "needs_background": "light"
     },
     "output_type": "display_data"
    }
   ],
   "source": [
    "plt.bar(range(10), model.apply(x_train2[0:1]).numpy()[0])"
   ]
  },
  {
   "cell_type": "markdown",
   "metadata": {},
   "source": [
    "### 6) Regularization\n",
    "- `tf.train.Checkpoint`\n",
    "- write own training procedure\n",
    "- eager execution\n",
    "\n",
    "Oftentimes it is not clear, which simple model is the right one, i.e. the optimal model bias is not known. Starting from a complex model, __regularization__ prevents overfitting by introducing a systematic bias. Most important regularization methods are:\n",
    "- Dropout\n",
    "- Early stopping (`tf.keras.callbacks.EarlyStopping`)\n",
    "- L1 or L2 penalty on parameters\n",
    "\n",
    "Going back to the very first MNIST model, where we used dropout.\n",
    "\n",
    "Note that we will now write our own training procedure which enables us to use tensorflows `tf.train.Checkpoint` and `tf.train.CheckpointManager` (without relying on keras' callback specification)."
   ]
  },
  {
   "cell_type": "code",
   "execution_count": 49,
   "metadata": {},
   "outputs": [
    {
     "name": "stdout",
     "output_type": "stream",
     "text": [
      "Model: \"sequential_3\"\n",
      "_________________________________________________________________\n",
      "Layer (type)                 Output Shape              Param #   \n",
      "=================================================================\n",
      "flatten_4 (Flatten)          (None, 784)               0         \n",
      "_________________________________________________________________\n",
      "dense_11 (Dense)             (None, 512)               401920    \n",
      "_________________________________________________________________\n",
      "dropout_1 (Dropout)          (None, 512)               0         \n",
      "_________________________________________________________________\n",
      "dense_12 (Dense)             (None, 10)                5130      \n",
      "=================================================================\n",
      "Total params: 407,050\n",
      "Trainable params: 407,050\n",
      "Non-trainable params: 0\n",
      "_________________________________________________________________\n"
     ]
    }
   ],
   "source": [
    "model = tf.keras.models.Sequential([\n",
    "  tf.keras.layers.Flatten(input_shape=(28, 28)),\n",
    "  tf.keras.layers.Dense(512, activation=tf.nn.relu),\n",
    "  tf.keras.layers.Dropout(0.4),\n",
    "  tf.keras.layers.Dense(10, activation=tf.nn.softmax)\n",
    "])\n",
    "model.summary()"
   ]
  },
  {
   "cell_type": "markdown",
   "metadata": {},
   "source": [
    "Gather `model`, `optimizer`, `losses` and `metrics`. Note that all these objects are _stateful_. E.g.`SparseCategoricalCrossentropy` is not simply a function but an object that computes and stores the result. This is why we need one metric for each: training loss and validation loss."
   ]
  },
  {
   "cell_type": "code",
   "execution_count": 50,
   "metadata": {},
   "outputs": [],
   "source": [
    "model.build((64, 28, 28, 1))\n",
    "\n",
    "optimizer = tf.keras.optimizers.Adam()\n",
    "\n",
    "loss_object = tf.keras.losses.SparseCategoricalCrossentropy()\n",
    "\n",
    "train_loss = tf.keras.metrics.SparseCategoricalCrossentropy(name='loss')\n",
    "train_accuracy = tf.keras.metrics.SparseCategoricalAccuracy(name='sparse_categorical_accuracy')\n",
    "\n",
    "test_loss = tf.keras.metrics.SparseCategoricalCrossentropy(name='val_loss')\n",
    "test_accuracy = tf.keras.metrics.SparseCategoricalAccuracy(name='val_sparse_categorical_accuracy')"
   ]
  },
  {
   "cell_type": "code",
   "execution_count": 51,
   "metadata": {},
   "outputs": [],
   "source": [
    "def train_step(images, labels):\n",
    "    \"\"\"\n",
    "    Predicts the output of `images`, calculates and applies gradients to model parameters.\n",
    "    Also calculates train metrics\n",
    "    \"\"\"\n",
    "    with tf.GradientTape() as tape:\n",
    "        predictions = model(images, training=True)\n",
    "        loss = loss_object(labels, predictions)\n",
    "    gradients = tape.gradient(loss, model.trainable_variables)\n",
    "    optimizer.apply_gradients(zip(gradients, model.trainable_variables))\n",
    "    # calculate metrics\n",
    "    train_accuracy(labels, predictions)\n",
    "    train_loss(labels, predictions)"
   ]
  },
  {
   "cell_type": "code",
   "execution_count": 52,
   "metadata": {},
   "outputs": [],
   "source": [
    "def test_step(images, labels):\n",
    "    \"\"\"Evaluates prediction on given data and calculates test metrics\"\"\"\n",
    "    predictions = model(images, training=False)\n",
    "    # calculate metrics\n",
    "    test_loss(labels, predictions)\n",
    "    test_accuracy(labels, predictions)"
   ]
  },
  {
   "cell_type": "code",
   "execution_count": 53,
   "metadata": {},
   "outputs": [],
   "source": [
    "checkpoint = tf.train.Checkpoint(model=model, optimizer=optimizer)"
   ]
  },
  {
   "cell_type": "code",
   "execution_count": 54,
   "metadata": {},
   "outputs": [],
   "source": [
    "checkpoint_dir = \"./regularization_ckpts/\"\n",
    "manager = tf.train.CheckpointManager(checkpoint, directory=checkpoint_dir, max_to_keep=None)\n",
    "status = checkpoint.restore(manager.latest_checkpoint)"
   ]
  },
  {
   "cell_type": "code",
   "execution_count": 55,
   "metadata": {},
   "outputs": [
    {
     "data": {
      "application/vnd.jupyter.widget-view+json": {
       "model_id": "6ff9c8e755704539a31b9460fb5895c9",
       "version_major": 2,
       "version_minor": 0
      },
      "text/plain": [
       "HBox(children=(IntProgress(value=0, max=10), HTML(value='')))"
      ]
     },
     "metadata": {},
     "output_type": "display_data"
    },
    {
     "name": "stdout",
     "output_type": "stream",
     "text": [
      "Epoch 1, Loss: 0.2734851837158203, Accuracy: 920.0, Test Loss: 0.12870924174785614, Test Accuracy: 961.0, ckpt ./regularization_ckpts/ckpt-1\n",
      "Epoch 2, Loss: 0.1279720515012741, Accuracy: 962.0, Test Loss: 0.08903733640909195, Test Accuracy: 972.0, ckpt ./regularization_ckpts/ckpt-2\n",
      "Epoch 3, Loss: 0.0952165275812149, Accuracy: 971.0, Test Loss: 0.08305729180574417, Test Accuracy: 974.0, ckpt ./regularization_ckpts/ckpt-3\n",
      "Epoch 4, Loss: 0.07588566094636917, Accuracy: 977.0, Test Loss: 0.07084642350673676, Test Accuracy: 978.0, ckpt ./regularization_ckpts/ckpt-4\n",
      "Epoch 5, Loss: 0.06541824340820312, Accuracy: 979.0, Test Loss: 0.06950397789478302, Test Accuracy: 978.0, ckpt ./regularization_ckpts/ckpt-5\n",
      "Epoch 6, Loss: 0.05472831055521965, Accuracy: 983.0, Test Loss: 0.065449558198452, Test Accuracy: 980.0, ckpt ./regularization_ckpts/ckpt-6\n",
      "Epoch 7, Loss: 0.04813390225172043, Accuracy: 984.0, Test Loss: 0.06422283500432968, Test Accuracy: 980.0, ckpt ./regularization_ckpts/ckpt-7\n",
      "Epoch 8, Loss: 0.04304417967796326, Accuracy: 986.0, Test Loss: 0.06545840203762054, Test Accuracy: 981.0, ckpt ./regularization_ckpts/ckpt-8\n",
      "Epoch 9, Loss: 0.04099568352103233, Accuracy: 986.0, Test Loss: 0.06304920464754105, Test Accuracy: 982.0, ckpt ./regularization_ckpts/ckpt-9\n",
      "Epoch 10, Loss: 0.03526688367128372, Accuracy: 988.0, Test Loss: 0.06287980079650879, Test Accuracy: 982.0, ckpt ./regularization_ckpts/ckpt-10\n",
      "\n"
     ]
    }
   ],
   "source": [
    "# poor man's history\n",
    "history = {\"epoch\": [], \"train_loss\": [], \"train_accuracy\": [], \"test_loss\": [], \"test_accuracy\": []}\n",
    "\n",
    "for epoch in tqdm(range(10)):\n",
    "    for images, labels in train_dataset:\n",
    "        train_step(images, labels)\n",
    "\n",
    "    for test_images, test_labels in test_dataset:\n",
    "        test_step(test_images, test_labels)\n",
    "\n",
    "    ckpt_path = manager.save()\n",
    "    template = 'Epoch {}, Loss: {}, Accuracy: {}, Test Loss: {}, Test Accuracy: {}, ckpt {}'\n",
    "    print(template.format(epoch+1,\n",
    "                         train_loss.result(),\n",
    "                         tf.round(train_accuracy.result()*1000),\n",
    "                         test_loss.result(),\n",
    "                         tf.round(test_accuracy.result()*1000),\n",
    "                         ckpt_path))\n",
    "    \n",
    "    history[\"epoch\"].append(epoch)\n",
    "    history[\"train_loss\"].append(train_loss.result())\n",
    "    history[\"train_accuracy\"].append(train_accuracy.result())\n",
    "    history[\"test_loss\"].append(test_loss.result())\n",
    "    history[\"test_accuracy\"].append(test_accuracy.result())\n",
    "    \n",
    "    # Reset the metrics for the next epoch\n",
    "    train_loss.reset_states()\n",
    "    train_accuracy.reset_states()\n",
    "    test_loss.reset_states()\n",
    "    test_accuracy.reset_states()"
   ]
  },
  {
   "cell_type": "code",
   "execution_count": 56,
   "metadata": {},
   "outputs": [
    {
     "name": "stdout",
     "output_type": "stream",
     "text": [
      "Label tf.Tensor([8], shape=(1,), dtype=uint8)\n"
     ]
    },
    {
     "data": {
      "image/png": "[encoded data removed]",
      "text/plain": [
       "<Figure size 432x288 with 1 Axes>"
      ]
     },
     "metadata": {
      "needs_background": "light"
     },
     "output_type": "display_data"
    }
   ],
   "source": [
    "image, label = next(train_dataset.__iter__())\n",
    "prediction = model(image[0:1], training=False)\n",
    "plt.bar(range(0,10), prediction[0])\n",
    "plt.xlabel(\"Digit\")\n",
    "plt.ylabel(\"Assignment probability\")\n",
    "print(\"Label\", label[0:1])"
   ]
  },
  {
   "cell_type": "code",
   "execution_count": 57,
   "metadata": {},
   "outputs": [
    {
     "data": {
      "text/plain": [
       "<tf.Variable 'dense_12/bias:0' shape=(10,) dtype=float32, numpy=\n",
       "array([-0.05332159, -0.08256638, -0.05437699, -0.09979131,  0.00846671,\n",
       "        0.00481521, -0.02707016, -0.12905332,  0.30732697,  0.03966857],\n",
       "      dtype=float32)>"
      ]
     },
     "execution_count": 57,
     "metadata": {},
     "output_type": "execute_result"
    }
   ],
   "source": [
    "model.weights[3]"
   ]
  },
  {
   "cell_type": "code",
   "execution_count": 58,
   "metadata": {},
   "outputs": [
    {
     "data": {
      "text/plain": [
       "['./regularization_ckpts/ckpt-1',\n",
       " './regularization_ckpts/ckpt-2',\n",
       " './regularization_ckpts/ckpt-3',\n",
       " './regularization_ckpts/ckpt-4',\n",
       " './regularization_ckpts/ckpt-5',\n",
       " './regularization_ckpts/ckpt-6',\n",
       " './regularization_ckpts/ckpt-7',\n",
       " './regularization_ckpts/ckpt-8',\n",
       " './regularization_ckpts/ckpt-9',\n",
       " './regularization_ckpts/ckpt-10']"
      ]
     },
     "execution_count": 58,
     "metadata": {},
     "output_type": "execute_result"
    }
   ],
   "source": [
    "manager.checkpoints"
   ]
  },
  {
   "cell_type": "code",
   "execution_count": 59,
   "metadata": {},
   "outputs": [
    {
     "data": {
      "text/plain": [
       "<tensorflow.python.training.tracking.util.CheckpointLoadStatus at 0x7f6ce07f10f0>"
      ]
     },
     "execution_count": 59,
     "metadata": {},
     "output_type": "execute_result"
    }
   ],
   "source": [
    "checkpoint.restore(manager.checkpoints[0])"
   ]
  },
  {
   "cell_type": "code",
   "execution_count": 60,
   "metadata": {},
   "outputs": [
    {
     "data": {
      "text/plain": [
       "<tf.Variable 'dense_12/bias:0' shape=(10,) dtype=float32, numpy=\n",
       "array([-0.04213141,  0.01697601,  0.01545415, -0.02875578,  0.00416946,\n",
       "        0.05732017, -0.00188891,  0.00698155, -0.02369418, -0.00367177],\n",
       "      dtype=float32)>"
      ]
     },
     "execution_count": 60,
     "metadata": {},
     "output_type": "execute_result"
    }
   ],
   "source": [
    "model.weights[3]"
   ]
  },
  {
   "cell_type": "code",
   "execution_count": 61,
   "metadata": {},
   "outputs": [
    {
     "name": "stdout",
     "output_type": "stream",
     "text": [
      "Label tf.Tensor([8], shape=(1,), dtype=uint8)\n"
     ]
    },
    {
     "data": {
      "image/png": "[encoded data removed]",
      "text/plain": [
       "<Figure size 432x288 with 1 Axes>"
      ]
     },
     "metadata": {
      "needs_background": "light"
     },
     "output_type": "display_data"
    }
   ],
   "source": [
    "image, label = next(train_dataset.__iter__())\n",
    "prediction = model.apply(image[0:1])\n",
    "plt.bar(range(0,10), prediction[0])\n",
    "plt.xlabel(\"Digit\")\n",
    "plt.ylabel(\"Assignment probability\")\n",
    "print(\"Label\", label[0:1])"
   ]
  },
  {
   "cell_type": "code",
   "execution_count": 62,
   "metadata": {},
   "outputs": [
    {
     "data": {
      "image/png": "[encoded data removed]",
      "text/plain": [
       "<Figure size 576x216 with 2 Axes>"
      ]
     },
     "metadata": {
      "needs_background": "light"
     },
     "output_type": "display_data"
    }
   ],
   "source": [
    "fig, axes = plt.subplots(1,2, figsize=(8,3))\n",
    "\n",
    "plt.sca(axes[0])\n",
    "plt.plot(history[\"epoch\"], history[\"train_loss\"], label=\"train loss\")\n",
    "plt.plot(history[\"epoch\"], history[\"test_loss\"], label=\"val loss\")\n",
    "plt.legend()\n",
    "plt.xlabel(\"epochs\")\n",
    "plt.ylabel(\"loss\")\n",
    "#plt.yscale(\"log\")\n",
    "\n",
    "plt.sca(axes[1])\n",
    "plt.plot(history[\"epoch\"], history[\"train_accuracy\"],\n",
    "         label=\"train accuracy\")\n",
    "plt.plot(history[\"epoch\"], history[\"test_accuracy\"], \n",
    "         label=\"val accuracy\")\n",
    "plt.legend()\n",
    "plt.xlabel(\"epochs\")\n",
    "plt.ylabel(\"accuracy\")\n",
    "\n",
    "fig.tight_layout()"
   ]
  },
  {
   "cell_type": "markdown",
   "metadata": {},
   "source": [
    "### 7) MNIST Autoencoder, fill-in-the-blank exercise\n",
    "![](https://upload.wikimedia.org/wikipedia/commons/thumb/3/37/Autoencoder_schema.png/220px-Autoencoder_schema.png)\n",
    "(wikipedia)\n",
    "\n",
    "We now want to learn a compressed representation of the MNIST dataset by building an __Autoencoder__, which comprises of:\n",
    "- an Encoder, that takes the input image and compresses it to a lower dimensional (latent) representation\n",
    "- a Decoder, which takes the output of the encoder and expands it again into the original pixel reprensentation\n",
    "\n",
    "The target is to minimize the reconstruction of this feed forward model. This is an __unsupervised__ method, which means that we do not use the labels.\n",
    "\n",
    "The latent representation shall be a vector of a few dimensions (fewer than the 28x28 original image).\n",
    "\n",
    "Hints: Play around with the activation functions (relu, leaky relu, or sigmoid), and play around with the dimension of the latent space.\n",
    "\n",
    "Additionally we want to visualize the latent representation of our data using t-SNE (can be done in tensorboard e.g. https://projector.tensorflow.org/)"
   ]
  },
  {
   "cell_type": "code",
   "execution_count": 63,
   "metadata": {},
   "outputs": [
    {
     "ename": "SyntaxError",
     "evalue": "invalid syntax (<ipython-input-63-3e6860831c82>, line 4)",
     "output_type": "error",
     "traceback": [
      "\u001b[0;36m  File \u001b[0;32m\"<ipython-input-63-3e6860831c82>\"\u001b[0;36m, line \u001b[0;32m4\u001b[0m\n\u001b[0;31m    self.... = ### FILL\u001b[0m\n\u001b[0m          ^\u001b[0m\n\u001b[0;31mSyntaxError\u001b[0m\u001b[0;31m:\u001b[0m invalid syntax\n"
     ]
    }
   ],
   "source": [
    "class Encoder(tf.keras.Model):\n",
    "    def __init__(self, latent_dim):\n",
    "        super(Encoder, self).__init__()\n",
    "        self.... = ### FILL\n",
    "    \n",
    "    def call(self, inputs):\n",
    "        ### FILL\n",
    "        return ### FILL\n",
    "    \n",
    "class Decoder(tf.keras.Model):\n",
    "    def __init__(self, latent_dim):\n",
    "        super(Decoder, self).__init__()\n",
    "        self.... = ### FILL\n",
    "    \n",
    "    def call(self, inputs):\n",
    "        ### FILL\n",
    "        return ### FILL\n",
    "\n",
    "class Autoencoder(tf.keras.Model):\n",
    "    def __init__(self, latent_dim):\n",
    "        super(Autoencoder, self).__init__()\n",
    "        self.encoder = Encoder(latent_dim)\n",
    "        self.decoder = Decoder(latent_dim)\n",
    "\n",
    "    def call(self, inputs):\n",
    "        ### FILL\n",
    "        return ### FILL"
   ]
  },
  {
   "cell_type": "code",
   "execution_count": null,
   "metadata": {},
   "outputs": [],
   "source": [
    "train_ds = tf.data.Dataset.from_tensor_slices((x_train, x_train)).shuffle(1024).batch(32)\n",
    "test_ds = tf.data.Dataset.from_tensor_slices((x_test, x_test)).shuffle(1024).batch(32)"
   ]
  },
  {
   "cell_type": "code",
   "execution_count": null,
   "metadata": {},
   "outputs": [],
   "source": [
    "dim = ### FILL\n",
    "ae = Autoencoder(dim)\n",
    "ae.build((32, 28, 28))\n",
    "ae.compile(optimizer=tf.keras.optimizers.Adam(),\n",
    "           loss=tf.keras.losses.MeanSquaredError(),\n",
    "           metrics=[tf.keras.metrics.MeanSquaredError()])\n",
    "ae.summary()"
   ]
  },
  {
   "cell_type": "code",
   "execution_count": null,
   "metadata": {},
   "outputs": [],
   "source": [
    "history = ae.fit(train_ds, epochs=5, validation_data=test_ds)"
   ]
  },
  {
   "cell_type": "code",
   "execution_count": null,
   "metadata": {},
   "outputs": [],
   "source": [
    "plt.plot(history.epoch, history.history[\"loss\"], label=\"train loss\")\n",
    "plt.plot(history.epoch, history.history[\"val_loss\"], label=\"val loss\")\n",
    "plt.legend()\n",
    "plt.xlabel(\"epochs\")\n",
    "plt.ylabel(\"loss\")"
   ]
  },
  {
   "cell_type": "markdown",
   "metadata": {},
   "source": [
    "Lets look at some predictions"
   ]
  },
  {
   "cell_type": "code",
   "execution_count": null,
   "metadata": {
    "scrolled": false
   },
   "outputs": [],
   "source": [
    "for images, _ in train_ds.take(1):\n",
    "    n_images = len(images)\n",
    "    n_cols = 8\n",
    "    n_rows = 2*n_images // n_cols\n",
    "    \n",
    "    fig, axes = plt.subplots(n_rows,n_cols, figsize=(n_cols*1.5,n_rows*1.5))\n",
    "    axes = axes.flatten()\n",
    "    \n",
    "    predictions = ae.call(images)\n",
    "    \n",
    "    for i, image in enumerate(images):\n",
    "        axes[2*i].matshow(image)\n",
    "        axes[2*i].set_yticklabels([])\n",
    "        axes[2*i].set_xticklabels([])\n",
    "        axes[2*i+1].matshow(predictions[i])\n",
    "        axes[2*i+1].set_yticklabels([])\n",
    "        axes[2*i+1].set_xticklabels([])"
   ]
  },
  {
   "cell_type": "markdown",
   "metadata": {},
   "source": [
    "Get the latent representation of the dataset"
   ]
  },
  {
   "cell_type": "code",
   "execution_count": null,
   "metadata": {},
   "outputs": [],
   "source": [
    "latent = ### FILL (get 1200 images and transform them to the latent represenation)\n",
    "latent.shape"
   ]
  },
  {
   "cell_type": "code",
   "execution_count": null,
   "metadata": {},
   "outputs": [],
   "source": [
    "labels = ### FILL (get the corresponding 1200 labels)\n",
    "labels.shape"
   ]
  },
  {
   "cell_type": "code",
   "execution_count": null,
   "metadata": {},
   "outputs": [],
   "source": [
    "import pandas as pd\n",
    "import seaborn as sns"
   ]
  },
  {
   "cell_type": "code",
   "execution_count": null,
   "metadata": {},
   "outputs": [],
   "source": [
    "df = pd.DataFrame({f\"{i}\": latent[:,i] for i in range(dim)})\n",
    "df.head()"
   ]
  },
  {
   "cell_type": "code",
   "execution_count": null,
   "metadata": {},
   "outputs": [],
   "source": [
    "sns.pairplot(df)"
   ]
  },
  {
   "cell_type": "code",
   "execution_count": null,
   "metadata": {},
   "outputs": [],
   "source": [
    "import tsne"
   ]
  },
  {
   "cell_type": "code",
   "execution_count": null,
   "metadata": {},
   "outputs": [],
   "source": [
    "proj = tsne.pca(latent.numpy().astype(np.float64), no_dims=2)"
   ]
  },
  {
   "cell_type": "code",
   "execution_count": null,
   "metadata": {},
   "outputs": [],
   "source": [
    "scatter = plt.scatter(proj[:,0], proj[:,1], c=labels, cmap=plt.get_cmap(\"tab10\"))\n",
    "plt.legend(*scatter.legend_elements())"
   ]
  },
  {
   "cell_type": "code",
   "execution_count": null,
   "metadata": {
    "scrolled": true
   },
   "outputs": [],
   "source": [
    "proj = tsne.tsne(latent.numpy().astype(np.float64), max_iter=300)"
   ]
  },
  {
   "cell_type": "code",
   "execution_count": null,
   "metadata": {},
   "outputs": [],
   "source": [
    "proj.shape"
   ]
  },
  {
   "cell_type": "code",
   "execution_count": null,
   "metadata": {},
   "outputs": [],
   "source": [
    "scatter = plt.scatter(proj[:,0], proj[:,1], c=labels, cmap=plt.get_cmap(\"tab10\"))\n",
    "plt.legend(*scatter.legend_elements())"
   ]
  },
  {
   "cell_type": "markdown",
   "metadata": {},
   "source": [
    "## Summary\n",
    "Tensorflow offers many ways to create models and train them:\n",
    "- More high level methods conform to the Keras specification.\n",
    "- Using lower level methods gives more control (write own model and training loop).\n",
    "\n",
    "Combinations of these are quite interoperable\n",
    "\n",
    "In detail we have learned:\n",
    "- Construct models of type `tf.keras.Model` via the sequential API, the functional API, or writing your own subclass\n",
    "- Choose loss function, optimizer, and metrics\n",
    "- Supply data directly from numpy arrays or `tf.data.Dataset`\n",
    "- Train via `model.fit()` or writing your own training loop, e.g.\n",
    "```python\n",
    "for i in range(n_epochs):\n",
    "    for xs, ys in dataset:\n",
    "        with tf.GradientTape() as tape:\n",
    "            predictions = model(xs)\n",
    "            loss = loss_object(ys, predictions)\n",
    "        gradients = tape.gradient(loss, model.trainable_variables)\n",
    "        optimizer.apply_gradients(zip(gradients, model.trainable_variables))\n",
    "```\n",
    "- History of training metrics is automatically returned by `model.fit()`. In your own training loop you can do anything, e.g. fill a list of metrics yourself. (Tomorrow you'll learn about `tensorboard`)\n",
    "- Saving a model means using checkpoints, which is done via \n",
    "    - `keras.ModelCheckpoint` and `model.fit(..., callbacks=...)`, or\n",
    "    - write your own loop and use a `tf.train.Checkpoint` and `tf.train.CheckpointManager`"
   ]
  },
  {
   "cell_type": "code",
   "execution_count": null,
   "metadata": {},
   "outputs": [],
   "source": []
  },
  {
   "cell_type": "code",
   "execution_count": null,
   "metadata": {},
   "outputs": [],
   "source": []
  }
 ],
 "metadata": {
  "kernelspec": {
   "display_name": "bmsss",
   "language": "python",
   "name": "bmsss"
  },
  "language_info": {
   "codemirror_mode": {
    "name": "ipython",
    "version": 3
   },
   "file_extension": ".py",
   "mimetype": "text/x-python",
   "name": "python",
   "nbconvert_exporter": "python",
   "pygments_lexer": "ipython3",
   "version": "3.6.8"
  }
 },
 "nbformat": 4,
 "nbformat_minor": 2
}
